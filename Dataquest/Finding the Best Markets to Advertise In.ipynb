{
 "cells": [
  {
   "cell_type": "markdown",
   "id": "82fd46f9",
   "metadata": {},
   "source": [
    "# Finding the Best Markets to Advertise In"
   ]
  },
  {
   "cell_type": "markdown",
   "id": "7d7fb069",
   "metadata": {},
   "source": [
    "Let's assume that we're working for an e-learning company that offers courses on programming. Most of our courses are on web development, but we also cover many other domains, like datascience and game development. We want to promote our product and we'd like to invest some money in advertisement. Our goal in this project is to find out the best two markets to advertise our product in. "
   ]
  },
  {
   "cell_type": "markdown",
   "id": "4d91b6ba",
   "metadata": {},
   "source": [
    "To reach our goal, we could organize surveys for a couple of different markets to find out which would the best choices for advertising. This is very costly, however, and it's a good call to explore cheaper options first.\n",
    "\n",
    "We can try to search existing data that might be relevant for our purpose. One good candidate is the data from [freeCodeCamp's 2017 New Coder Survey](github.com/freeCodeCamp/2017-new-coder-survey)"
   ]
  },
  {
   "cell_type": "markdown",
   "id": "53532315",
   "metadata": {},
   "source": [
    "Read in the `2017-fCC-New-Coders-Survey-Data.csv` file and explore briefly the data set:"
   ]
  },
  {
   "cell_type": "code",
   "execution_count": 1,
   "id": "b6283874",
   "metadata": {},
   "outputs": [
    {
     "name": "stderr",
     "output_type": "stream",
     "text": [
      "C:\\Users\\Frank\\anaconda3\\lib\\site-packages\\IPython\\core\\interactiveshell.py:3444: DtypeWarning: Columns (17,62) have mixed types.Specify dtype option on import or set low_memory=False.\n",
      "  exec(code_obj, self.user_global_ns, self.user_ns)\n"
     ]
    }
   ],
   "source": [
    "import pandas as pd\n",
    "df = pd.read_csv(\"2017-fCC-New-Coders-Survey-Data.csv\")"
   ]
  },
  {
   "cell_type": "markdown",
   "id": "876ad638",
   "metadata": {},
   "source": [
    "Let's print the first five rows"
   ]
  },
  {
   "cell_type": "code",
   "execution_count": 2,
   "id": "1abfb156",
   "metadata": {},
   "outputs": [
    {
     "data": {
      "text/html": [
       "<div>\n",
       "<style scoped>\n",
       "    .dataframe tbody tr th:only-of-type {\n",
       "        vertical-align: middle;\n",
       "    }\n",
       "\n",
       "    .dataframe tbody tr th {\n",
       "        vertical-align: top;\n",
       "    }\n",
       "\n",
       "    .dataframe thead th {\n",
       "        text-align: right;\n",
       "    }\n",
       "</style>\n",
       "<table border=\"1\" class=\"dataframe\">\n",
       "  <thead>\n",
       "    <tr style=\"text-align: right;\">\n",
       "      <th></th>\n",
       "      <th>Age</th>\n",
       "      <th>AttendedBootcamp</th>\n",
       "      <th>BootcampFinish</th>\n",
       "      <th>BootcampLoanYesNo</th>\n",
       "      <th>BootcampName</th>\n",
       "      <th>BootcampRecommend</th>\n",
       "      <th>ChildrenNumber</th>\n",
       "      <th>CityPopulation</th>\n",
       "      <th>CodeEventConferences</th>\n",
       "      <th>CodeEventDjangoGirls</th>\n",
       "      <th>...</th>\n",
       "      <th>YouTubeFCC</th>\n",
       "      <th>YouTubeFunFunFunction</th>\n",
       "      <th>YouTubeGoogleDev</th>\n",
       "      <th>YouTubeLearnCode</th>\n",
       "      <th>YouTubeLevelUpTuts</th>\n",
       "      <th>YouTubeMIT</th>\n",
       "      <th>YouTubeMozillaHacks</th>\n",
       "      <th>YouTubeOther</th>\n",
       "      <th>YouTubeSimplilearn</th>\n",
       "      <th>YouTubeTheNewBoston</th>\n",
       "    </tr>\n",
       "  </thead>\n",
       "  <tbody>\n",
       "    <tr>\n",
       "      <th>0</th>\n",
       "      <td>27.0</td>\n",
       "      <td>0.0</td>\n",
       "      <td>NaN</td>\n",
       "      <td>NaN</td>\n",
       "      <td>NaN</td>\n",
       "      <td>NaN</td>\n",
       "      <td>NaN</td>\n",
       "      <td>more than 1 million</td>\n",
       "      <td>NaN</td>\n",
       "      <td>NaN</td>\n",
       "      <td>...</td>\n",
       "      <td>NaN</td>\n",
       "      <td>NaN</td>\n",
       "      <td>NaN</td>\n",
       "      <td>NaN</td>\n",
       "      <td>NaN</td>\n",
       "      <td>NaN</td>\n",
       "      <td>NaN</td>\n",
       "      <td>NaN</td>\n",
       "      <td>NaN</td>\n",
       "      <td>NaN</td>\n",
       "    </tr>\n",
       "    <tr>\n",
       "      <th>1</th>\n",
       "      <td>34.0</td>\n",
       "      <td>0.0</td>\n",
       "      <td>NaN</td>\n",
       "      <td>NaN</td>\n",
       "      <td>NaN</td>\n",
       "      <td>NaN</td>\n",
       "      <td>NaN</td>\n",
       "      <td>less than 100,000</td>\n",
       "      <td>NaN</td>\n",
       "      <td>NaN</td>\n",
       "      <td>...</td>\n",
       "      <td>1.0</td>\n",
       "      <td>NaN</td>\n",
       "      <td>NaN</td>\n",
       "      <td>NaN</td>\n",
       "      <td>NaN</td>\n",
       "      <td>NaN</td>\n",
       "      <td>NaN</td>\n",
       "      <td>NaN</td>\n",
       "      <td>NaN</td>\n",
       "      <td>NaN</td>\n",
       "    </tr>\n",
       "    <tr>\n",
       "      <th>2</th>\n",
       "      <td>21.0</td>\n",
       "      <td>0.0</td>\n",
       "      <td>NaN</td>\n",
       "      <td>NaN</td>\n",
       "      <td>NaN</td>\n",
       "      <td>NaN</td>\n",
       "      <td>NaN</td>\n",
       "      <td>more than 1 million</td>\n",
       "      <td>NaN</td>\n",
       "      <td>NaN</td>\n",
       "      <td>...</td>\n",
       "      <td>NaN</td>\n",
       "      <td>NaN</td>\n",
       "      <td>NaN</td>\n",
       "      <td>1.0</td>\n",
       "      <td>1.0</td>\n",
       "      <td>NaN</td>\n",
       "      <td>NaN</td>\n",
       "      <td>NaN</td>\n",
       "      <td>NaN</td>\n",
       "      <td>NaN</td>\n",
       "    </tr>\n",
       "    <tr>\n",
       "      <th>3</th>\n",
       "      <td>26.0</td>\n",
       "      <td>0.0</td>\n",
       "      <td>NaN</td>\n",
       "      <td>NaN</td>\n",
       "      <td>NaN</td>\n",
       "      <td>NaN</td>\n",
       "      <td>NaN</td>\n",
       "      <td>between 100,000 and 1 million</td>\n",
       "      <td>NaN</td>\n",
       "      <td>NaN</td>\n",
       "      <td>...</td>\n",
       "      <td>1.0</td>\n",
       "      <td>1.0</td>\n",
       "      <td>NaN</td>\n",
       "      <td>NaN</td>\n",
       "      <td>1.0</td>\n",
       "      <td>NaN</td>\n",
       "      <td>NaN</td>\n",
       "      <td>NaN</td>\n",
       "      <td>NaN</td>\n",
       "      <td>NaN</td>\n",
       "    </tr>\n",
       "    <tr>\n",
       "      <th>4</th>\n",
       "      <td>20.0</td>\n",
       "      <td>0.0</td>\n",
       "      <td>NaN</td>\n",
       "      <td>NaN</td>\n",
       "      <td>NaN</td>\n",
       "      <td>NaN</td>\n",
       "      <td>NaN</td>\n",
       "      <td>between 100,000 and 1 million</td>\n",
       "      <td>NaN</td>\n",
       "      <td>NaN</td>\n",
       "      <td>...</td>\n",
       "      <td>NaN</td>\n",
       "      <td>NaN</td>\n",
       "      <td>NaN</td>\n",
       "      <td>NaN</td>\n",
       "      <td>NaN</td>\n",
       "      <td>NaN</td>\n",
       "      <td>NaN</td>\n",
       "      <td>NaN</td>\n",
       "      <td>NaN</td>\n",
       "      <td>NaN</td>\n",
       "    </tr>\n",
       "  </tbody>\n",
       "</table>\n",
       "<p>5 rows × 136 columns</p>\n",
       "</div>"
      ],
      "text/plain": [
       "    Age  AttendedBootcamp  BootcampFinish  BootcampLoanYesNo BootcampName  \\\n",
       "0  27.0               0.0             NaN                NaN          NaN   \n",
       "1  34.0               0.0             NaN                NaN          NaN   \n",
       "2  21.0               0.0             NaN                NaN          NaN   \n",
       "3  26.0               0.0             NaN                NaN          NaN   \n",
       "4  20.0               0.0             NaN                NaN          NaN   \n",
       "\n",
       "   BootcampRecommend  ChildrenNumber                 CityPopulation  \\\n",
       "0                NaN             NaN            more than 1 million   \n",
       "1                NaN             NaN              less than 100,000   \n",
       "2                NaN             NaN            more than 1 million   \n",
       "3                NaN             NaN  between 100,000 and 1 million   \n",
       "4                NaN             NaN  between 100,000 and 1 million   \n",
       "\n",
       "   CodeEventConferences  CodeEventDjangoGirls  ...  YouTubeFCC  \\\n",
       "0                   NaN                   NaN  ...         NaN   \n",
       "1                   NaN                   NaN  ...         1.0   \n",
       "2                   NaN                   NaN  ...         NaN   \n",
       "3                   NaN                   NaN  ...         1.0   \n",
       "4                   NaN                   NaN  ...         NaN   \n",
       "\n",
       "   YouTubeFunFunFunction  YouTubeGoogleDev  YouTubeLearnCode  \\\n",
       "0                    NaN               NaN               NaN   \n",
       "1                    NaN               NaN               NaN   \n",
       "2                    NaN               NaN               1.0   \n",
       "3                    1.0               NaN               NaN   \n",
       "4                    NaN               NaN               NaN   \n",
       "\n",
       "   YouTubeLevelUpTuts  YouTubeMIT  YouTubeMozillaHacks YouTubeOther  \\\n",
       "0                 NaN         NaN                  NaN          NaN   \n",
       "1                 NaN         NaN                  NaN          NaN   \n",
       "2                 1.0         NaN                  NaN          NaN   \n",
       "3                 1.0         NaN                  NaN          NaN   \n",
       "4                 NaN         NaN                  NaN          NaN   \n",
       "\n",
       "   YouTubeSimplilearn  YouTubeTheNewBoston  \n",
       "0                 NaN                  NaN  \n",
       "1                 NaN                  NaN  \n",
       "2                 NaN                  NaN  \n",
       "3                 NaN                  NaN  \n",
       "4                 NaN                  NaN  \n",
       "\n",
       "[5 rows x 136 columns]"
      ]
     },
     "execution_count": 2,
     "metadata": {},
     "output_type": "execute_result"
    }
   ],
   "source": [
    "df.head()"
   ]
  },
  {
   "cell_type": "markdown",
   "id": "0bb05c03",
   "metadata": {},
   "source": [
    "Let's look for number of rows and columns"
   ]
  },
  {
   "cell_type": "code",
   "execution_count": 3,
   "id": "29f1ca81",
   "metadata": {},
   "outputs": [
    {
     "data": {
      "text/plain": [
       "(18175, 136)"
      ]
     },
     "execution_count": 3,
     "metadata": {},
     "output_type": "execute_result"
    }
   ],
   "source": [
    "df.shape"
   ]
  },
  {
   "cell_type": "markdown",
   "id": "d7ca33d0",
   "metadata": {},
   "source": [
    "There are 18175 rows and 136 columns in this data set."
   ]
  },
  {
   "cell_type": "markdown",
   "id": "1395ed5e",
   "metadata": {},
   "source": [
    "The `\"JobRoleInterest\"` column describes for every participant the role(s) they'd be interested in working. Let's generate a frequecy table for this column"
   ]
  },
  {
   "cell_type": "code",
   "execution_count": 4,
   "id": "fea3c255",
   "metadata": {},
   "outputs": [
    {
     "data": {
      "text/plain": [
       "0                                                      NaN\n",
       "1                                 Full-Stack Web Developer\n",
       "2          Front-End Web Developer, Back-End Web Develo...\n",
       "3          Front-End Web Developer, Full-Stack Web Deve...\n",
       "4        Full-Stack Web Developer, Information Security...\n",
       "                               ...                        \n",
       "18170                                                  NaN\n",
       "18171      DevOps / SysAdmin,   Mobile Developer,   Pro...\n",
       "18172                                                  NaN\n",
       "18173                                                  NaN\n",
       "18174    Back-End Web Developer, Data Engineer,   Data ...\n",
       "Name: JobRoleInterest, Length: 18175, dtype: object"
      ]
     },
     "execution_count": 4,
     "metadata": {},
     "output_type": "execute_result"
    }
   ],
   "source": [
    "df[\"JobRoleInterest\"]"
   ]
  },
  {
   "cell_type": "markdown",
   "id": "308f1d9e",
   "metadata": {},
   "source": [
    "People can be interested in more than one subject like we can see in the following table."
   ]
  },
  {
   "cell_type": "code",
   "execution_count": 5,
   "id": "4ff7322f",
   "metadata": {},
   "outputs": [],
   "source": [
    "d = {}\n",
    "d[\"Subjects\"] = [i for i in dict(df[\"JobRoleInterest\"].value_counts(normalize = True)*100).keys()]\n",
    "d[\"Absolute_Frequency\"] = [i for i in dict(df[\"JobRoleInterest\"].value_counts()).values()]\n",
    "d[\"Relative_Frequency%\"] = [i for i in dict(df[\"JobRoleInterest\"].value_counts(normalize = True)*100).values()]"
   ]
  },
  {
   "cell_type": "code",
   "execution_count": 6,
   "id": "b5229299",
   "metadata": {},
   "outputs": [],
   "source": [
    "df_subjects = pd.DataFrame(d)"
   ]
  },
  {
   "cell_type": "markdown",
   "id": "db214c15",
   "metadata": {},
   "source": [
    "First let's remove the empty spaces before and after from each subjects"
   ]
  },
  {
   "cell_type": "code",
   "execution_count": 7,
   "id": "b53742ef",
   "metadata": {},
   "outputs": [],
   "source": [
    "df_subjects[\"Subjects\"] = df_subjects[\"Subjects\"].str.strip()"
   ]
  },
  {
   "cell_type": "markdown",
   "id": "cf2e820f",
   "metadata": {},
   "source": [
    "How many people are interested on web development or mobile development?"
   ]
  },
  {
   "cell_type": "code",
   "execution_count": 8,
   "id": "8503c52a",
   "metadata": {},
   "outputs": [],
   "source": [
    "only_web_and_mobile_developer = df_subjects.loc[df_subjects[\"Subjects\"].isin([\"Full-Stack Web Developer\",\n",
    "                                                                   \"Front-End Web Developer\",\n",
    "                                                                   \"Back-End Web Developer\",\n",
    "                                                                   \"Mobile Developer\"])]"
   ]
  },
  {
   "cell_type": "code",
   "execution_count": 9,
   "id": "5de9bb65",
   "metadata": {},
   "outputs": [
    {
     "data": {
      "text/html": [
       "<div>\n",
       "<style scoped>\n",
       "    .dataframe tbody tr th:only-of-type {\n",
       "        vertical-align: middle;\n",
       "    }\n",
       "\n",
       "    .dataframe tbody tr th {\n",
       "        vertical-align: top;\n",
       "    }\n",
       "\n",
       "    .dataframe thead th {\n",
       "        text-align: right;\n",
       "    }\n",
       "</style>\n",
       "<table border=\"1\" class=\"dataframe\">\n",
       "  <thead>\n",
       "    <tr style=\"text-align: right;\">\n",
       "      <th></th>\n",
       "      <th>Subjects</th>\n",
       "      <th>Absolute_Frequency</th>\n",
       "      <th>Relative_Frequency%</th>\n",
       "    </tr>\n",
       "  </thead>\n",
       "  <tbody>\n",
       "    <tr>\n",
       "      <th>0</th>\n",
       "      <td>Full-Stack Web Developer</td>\n",
       "      <td>823</td>\n",
       "      <td>11.770595</td>\n",
       "    </tr>\n",
       "    <tr>\n",
       "      <th>1</th>\n",
       "      <td>Front-End Web Developer</td>\n",
       "      <td>450</td>\n",
       "      <td>6.435927</td>\n",
       "    </tr>\n",
       "    <tr>\n",
       "      <th>3</th>\n",
       "      <td>Back-End Web Developer</td>\n",
       "      <td>142</td>\n",
       "      <td>2.030892</td>\n",
       "    </tr>\n",
       "    <tr>\n",
       "      <th>4</th>\n",
       "      <td>Mobile Developer</td>\n",
       "      <td>117</td>\n",
       "      <td>1.673341</td>\n",
       "    </tr>\n",
       "  </tbody>\n",
       "</table>\n",
       "</div>"
      ],
      "text/plain": [
       "                   Subjects  Absolute_Frequency  Relative_Frequency%\n",
       "0  Full-Stack Web Developer                 823            11.770595\n",
       "1   Front-End Web Developer                 450             6.435927\n",
       "3    Back-End Web Developer                 142             2.030892\n",
       "4          Mobile Developer                 117             1.673341"
      ]
     },
     "execution_count": 9,
     "metadata": {},
     "output_type": "execute_result"
    }
   ],
   "source": [
    "only_web_and_mobile_developer"
   ]
  },
  {
   "cell_type": "code",
   "execution_count": 10,
   "id": "9a7a8aef",
   "metadata": {},
   "outputs": [
    {
     "data": {
      "text/plain": [
       "1532"
      ]
     },
     "execution_count": 10,
     "metadata": {},
     "output_type": "execute_result"
    }
   ],
   "source": [
    "only_web_and_mobile_developer[\"Absolute_Frequency\"].sum()"
   ]
  },
  {
   "cell_type": "markdown",
   "id": "9bf07390",
   "metadata": {},
   "source": [
    "There are 1532 peoples interested in at least one of this subjects"
   ]
  },
  {
   "cell_type": "code",
   "execution_count": 11,
   "id": "42e85375",
   "metadata": {},
   "outputs": [
    {
     "data": {
      "image/png": "[encoded data removed]",
      "text/plain": [
       "<Figure size 600x500 with 1 Axes>"
      ]
     },
     "metadata": {
      "needs_background": "light"
     },
     "output_type": "display_data"
    }
   ],
   "source": [
    "import matplotlib.pyplot as plt\n",
    "import seaborn as sns\n",
    "\n",
    "fig,ax =plt.subplots(figsize=(6,5),dpi=100)\n",
    "ax.text(x=-300,y=4.5,s='Interested only in Web Development or Mobile Development',weight='bold',size=15,color=\"#040045\")\n",
    "ax.text(x=400,y=4.15,s='Amount',weight='bold',size=14,color=\"#2244ff\")\n",
    "ax.set(xlabel=None,ylabel=None)\n",
    "ax.barh(only_web_and_mobile_developer[\"Subjects\"][::-1],only_web_and_mobile_developer[\"Absolute_Frequency\"][::-1],\n",
    "        color = [\"#aaaaff\",\"#aaaaff\",\"#aaaaff\",\"#ff0522\"])\n",
    "ax.set_xticks([200,400,600,800])\n",
    "for location in [\"left\",\"right\",\"bottom\",\"top\"]:\n",
    "    ax.spines[location].set_visible(False)\n",
    "ax.xaxis.tick_top()\n",
    "ax.tick_params(top=False,left=False)\n",
    "plt.show()"
   ]
  },
  {
   "cell_type": "markdown",
   "id": "36f87200",
   "metadata": {},
   "source": [
    "Now that we found out that the sample has the right categories of people for our purpose, we can begin analyzing it. One indicator of a good market is the number of potencial customers. To make sure that we're working with a representative sample, let's drop all the rows where participant didn't answer what role they are interested in."
   ]
  },
  {
   "cell_type": "code",
   "execution_count": 12,
   "id": "ee50f430",
   "metadata": {},
   "outputs": [],
   "source": [
    "df2 = df[~df[\"JobRoleInterest\"].isnull()]"
   ]
  },
  {
   "cell_type": "markdown",
   "id": "c4bf7ce2",
   "metadata": {},
   "source": [
    "Now let's generate a frequency table for the `CountryLive` variable:"
   ]
  },
  {
   "cell_type": "code",
   "execution_count": 13,
   "id": "096cd77a",
   "metadata": {},
   "outputs": [
    {
     "data": {
      "text/plain": [
       "United States of America    3125\n",
       "India                        528\n",
       "United Kingdom               315\n",
       "Canada                       260\n",
       "Poland                       131\n",
       "                            ... \n",
       "Liberia                        1\n",
       "Papua New Guinea               1\n",
       "Guadeloupe                     1\n",
       "Gibraltar                      1\n",
       "Gambia                         1\n",
       "Name: CountryLive, Length: 137, dtype: int64"
      ]
     },
     "execution_count": 13,
     "metadata": {},
     "output_type": "execute_result"
    }
   ],
   "source": [
    "df2[\"CountryLive\"].value_counts()"
   ]
  },
  {
   "cell_type": "code",
   "execution_count": 14,
   "id": "4901b643",
   "metadata": {},
   "outputs": [],
   "source": [
    "d2 = {}\n",
    "d2[\"Countries\"] = [i for i in dict(df2[\"CountryLive\"].value_counts(normalize = True)*100).keys()]\n",
    "d2[\"Absolute_Frequency\"] = [i for i in dict(df2[\"CountryLive\"].value_counts()).values()]\n",
    "d2[\"Relative_Frequency\"] = [i for i in dict(df2[\"CountryLive\"].value_counts(normalize = True)).values()]"
   ]
  },
  {
   "cell_type": "code",
   "execution_count": 15,
   "id": "37b2db06",
   "metadata": {},
   "outputs": [
    {
     "data": {
      "text/html": [
       "<div>\n",
       "<style scoped>\n",
       "    .dataframe tbody tr th:only-of-type {\n",
       "        vertical-align: middle;\n",
       "    }\n",
       "\n",
       "    .dataframe tbody tr th {\n",
       "        vertical-align: top;\n",
       "    }\n",
       "\n",
       "    .dataframe thead th {\n",
       "        text-align: right;\n",
       "    }\n",
       "</style>\n",
       "<table border=\"1\" class=\"dataframe\">\n",
       "  <thead>\n",
       "    <tr style=\"text-align: right;\">\n",
       "      <th></th>\n",
       "      <th>Countries</th>\n",
       "      <th>Absolute_Frequency</th>\n",
       "      <th>Relative_Frequency</th>\n",
       "    </tr>\n",
       "  </thead>\n",
       "  <tbody>\n",
       "    <tr>\n",
       "      <th>0</th>\n",
       "      <td>United States of America</td>\n",
       "      <td>3125</td>\n",
       "      <td>0.457005</td>\n",
       "    </tr>\n",
       "    <tr>\n",
       "      <th>1</th>\n",
       "      <td>India</td>\n",
       "      <td>528</td>\n",
       "      <td>0.077216</td>\n",
       "    </tr>\n",
       "    <tr>\n",
       "      <th>2</th>\n",
       "      <td>United Kingdom</td>\n",
       "      <td>315</td>\n",
       "      <td>0.046066</td>\n",
       "    </tr>\n",
       "    <tr>\n",
       "      <th>3</th>\n",
       "      <td>Canada</td>\n",
       "      <td>260</td>\n",
       "      <td>0.038023</td>\n",
       "    </tr>\n",
       "    <tr>\n",
       "      <th>4</th>\n",
       "      <td>Poland</td>\n",
       "      <td>131</td>\n",
       "      <td>0.019158</td>\n",
       "    </tr>\n",
       "    <tr>\n",
       "      <th>...</th>\n",
       "      <td>...</td>\n",
       "      <td>...</td>\n",
       "      <td>...</td>\n",
       "    </tr>\n",
       "    <tr>\n",
       "      <th>132</th>\n",
       "      <td>Liberia</td>\n",
       "      <td>1</td>\n",
       "      <td>0.000146</td>\n",
       "    </tr>\n",
       "    <tr>\n",
       "      <th>133</th>\n",
       "      <td>Papua New Guinea</td>\n",
       "      <td>1</td>\n",
       "      <td>0.000146</td>\n",
       "    </tr>\n",
       "    <tr>\n",
       "      <th>134</th>\n",
       "      <td>Guadeloupe</td>\n",
       "      <td>1</td>\n",
       "      <td>0.000146</td>\n",
       "    </tr>\n",
       "    <tr>\n",
       "      <th>135</th>\n",
       "      <td>Gibraltar</td>\n",
       "      <td>1</td>\n",
       "      <td>0.000146</td>\n",
       "    </tr>\n",
       "    <tr>\n",
       "      <th>136</th>\n",
       "      <td>Gambia</td>\n",
       "      <td>1</td>\n",
       "      <td>0.000146</td>\n",
       "    </tr>\n",
       "  </tbody>\n",
       "</table>\n",
       "<p>137 rows × 3 columns</p>\n",
       "</div>"
      ],
      "text/plain": [
       "                    Countries  Absolute_Frequency  Relative_Frequency\n",
       "0    United States of America                3125            0.457005\n",
       "1                       India                 528            0.077216\n",
       "2              United Kingdom                 315            0.046066\n",
       "3                      Canada                 260            0.038023\n",
       "4                      Poland                 131            0.019158\n",
       "..                        ...                 ...                 ...\n",
       "132                   Liberia                   1            0.000146\n",
       "133          Papua New Guinea                   1            0.000146\n",
       "134                Guadeloupe                   1            0.000146\n",
       "135                 Gibraltar                   1            0.000146\n",
       "136                    Gambia                   1            0.000146\n",
       "\n",
       "[137 rows x 3 columns]"
      ]
     },
     "execution_count": 15,
     "metadata": {},
     "output_type": "execute_result"
    }
   ],
   "source": [
    "df_country = pd.DataFrame(d2)\n",
    "df_country"
   ]
  },
  {
   "cell_type": "markdown",
   "id": "bb4ec031",
   "metadata": {},
   "source": [
    "We can see that the developers are from 137 different countries and the two more representatives markets there are in United States of America and India. But we need to go more in depth with our analysis before taking a decision. Advertising within markets where most people are only willing to learn for free is extremely unlikely to be profitable for us."
   ]
  },
  {
   "cell_type": "markdown",
   "id": "b4e830cb",
   "metadata": {},
   "source": [
    "The `MoneyForLearning` column describes in American dollars the amount of money spent by participants from the moment they started coding until the moment they completed the survey. Our company sells subscriptions at a price of $59 per month, and for this reason we're interested in finding out how much money each student spends per month.\n",
    "\n",
    "It also seems like a good idea to narrow down our analysis to only four countries: US, India, United Kingdom and Canada. Some of the reason for this decision are:\n",
    "\n",
    "* These are the countries having the highest absolute frequencies in our sample, which means we have a decent amount of data for each.\n",
    "* Our courses are written in English, and English is an official language in all these four countries. The more people that know English, the better our chances to target the right people with our ads. "
   ]
  },
  {
   "cell_type": "code",
   "execution_count": 16,
   "id": "731ad5ec",
   "metadata": {},
   "outputs": [],
   "source": [
    "df3 = df.loc[df[\"CountryLive\"].isin([\"United States of America\",\n",
    "                                   \"India\",\n",
    "                                   \"United Kingdom\",\n",
    "                                   \"Canada\"])]"
   ]
  },
  {
   "cell_type": "markdown",
   "id": "8b3a27a4",
   "metadata": {},
   "source": [
    "Some students answered that they had been leanrning to code for 0 months. To avoid dividing by 0, let's replace all the null values by 1."
   ]
  },
  {
   "cell_type": "code",
   "execution_count": 17,
   "id": "9245dc40",
   "metadata": {},
   "outputs": [],
   "source": [
    "df3_copy = df3.copy()\n",
    "df3_copy[\"MonthsProgramming\"] = df3_copy[\"MonthsProgramming\"].replace(0,1)"
   ]
  },
  {
   "cell_type": "code",
   "execution_count": 18,
   "id": "0d5e0b48",
   "metadata": {},
   "outputs": [],
   "source": [
    "df3_copy[\"MoneyPerMonth\"] = df3_copy[\"MoneyForLearning\"]/df3_copy[\"MonthsProgramming\"]"
   ]
  },
  {
   "cell_type": "code",
   "execution_count": 19,
   "id": "4754bee3",
   "metadata": {},
   "outputs": [
    {
     "data": {
      "text/plain": [
       "596"
      ]
     },
     "execution_count": 19,
     "metadata": {},
     "output_type": "execute_result"
    }
   ],
   "source": [
    "df3_copy[\"MoneyPerMonth\"].isnull().sum()"
   ]
  },
  {
   "cell_type": "code",
   "execution_count": 20,
   "id": "bdae53d4",
   "metadata": {},
   "outputs": [
    {
     "data": {
      "text/plain": [
       "3629"
      ]
     },
     "execution_count": 20,
     "metadata": {},
     "output_type": "execute_result"
    }
   ],
   "source": [
    "df3_copy[df3_copy[\"MoneyPerMonth\"]== 0].MoneyPerMonth.count()"
   ]
  },
  {
   "cell_type": "markdown",
   "id": "2a804b23",
   "metadata": {},
   "source": [
    "There are 596 missing values in the new column and 3629 null values, so let's remove this rows."
   ]
  },
  {
   "cell_type": "code",
   "execution_count": 21,
   "id": "36393c29",
   "metadata": {},
   "outputs": [],
   "source": [
    "df3_copy.dropna(axis = 0, subset=[\"MoneyPerMonth\"],inplace = True)\n",
    "free_index = df3_copy[df3_copy[\"MoneyPerMonth\"] == 0].index\n",
    "df3_copy.drop(labels = free_index, axis = 0, inplace = True)"
   ]
  },
  {
   "cell_type": "markdown",
   "id": "a4fc2ba9",
   "metadata": {},
   "source": [
    "Group the reamining data by the \"CountryLive\" column and find out how much money a student spends on average each month."
   ]
  },
  {
   "cell_type": "code",
   "execution_count": 22,
   "id": "2c48d03d",
   "metadata": {},
   "outputs": [
    {
     "data": {
      "text/html": [
       "<div>\n",
       "<style scoped>\n",
       "    .dataframe tbody tr th:only-of-type {\n",
       "        vertical-align: middle;\n",
       "    }\n",
       "\n",
       "    .dataframe tbody tr th {\n",
       "        vertical-align: top;\n",
       "    }\n",
       "\n",
       "    .dataframe thead th {\n",
       "        text-align: right;\n",
       "    }\n",
       "</style>\n",
       "<table border=\"1\" class=\"dataframe\">\n",
       "  <thead>\n",
       "    <tr style=\"text-align: right;\">\n",
       "      <th></th>\n",
       "      <th>MoneyPerMonth</th>\n",
       "    </tr>\n",
       "    <tr>\n",
       "      <th>CountryLive</th>\n",
       "      <th></th>\n",
       "    </tr>\n",
       "  </thead>\n",
       "  <tbody>\n",
       "    <tr>\n",
       "      <th>United States of America</th>\n",
       "      <td>359.101106</td>\n",
       "    </tr>\n",
       "    <tr>\n",
       "      <th>Canada</th>\n",
       "      <td>225.923707</td>\n",
       "    </tr>\n",
       "    <tr>\n",
       "      <th>India</th>\n",
       "      <td>154.426783</td>\n",
       "    </tr>\n",
       "    <tr>\n",
       "      <th>United Kingdom</th>\n",
       "      <td>106.078845</td>\n",
       "    </tr>\n",
       "  </tbody>\n",
       "</table>\n",
       "</div>"
      ],
      "text/plain": [
       "                          MoneyPerMonth\n",
       "CountryLive                            \n",
       "United States of America     359.101106\n",
       "Canada                       225.923707\n",
       "India                        154.426783\n",
       "United Kingdom               106.078845"
      ]
     },
     "execution_count": 22,
     "metadata": {},
     "output_type": "execute_result"
    }
   ],
   "source": [
    "df3_copy.loc[:,[\"CountryLive\",\"MoneyPerMonth\"]].groupby(\"CountryLive\").mean().sort_values(\"MoneyPerMonth\",ascending = False)"
   ]
  },
  {
   "cell_type": "markdown",
   "id": "4672125c",
   "metadata": {},
   "source": [
    "The results for the United Kingdom are surprisingly low relative to the values we see for India. If we considered a few socio-economical metrics, we'd intuitively expect people in the UK to spend more on learning than people in India.\n",
    "\n",
    "It might be that we don't have enough representative data for the United Kingdom and India, or we have some outliers making the mean too big for India, or too low for the UK. Or it might be that the results are correct."
   ]
  },
  {
   "cell_type": "code",
   "execution_count": 23,
   "id": "bfc5e51b",
   "metadata": {},
   "outputs": [
    {
     "data": {
      "image/png": "[encoded data removed]",
      "text/plain": [
       "<Figure size 576x288 with 1 Axes>"
      ]
     },
     "metadata": {
      "needs_background": "light"
     },
     "output_type": "display_data"
    }
   ],
   "source": [
    "plt.figure(figsize=(8,4))\n",
    "plt.scatter(df3_copy[\"CountryLive\"],df3_copy[\"MoneyPerMonth\"])\n",
    "plt.show()"
   ]
  },
  {
   "cell_type": "markdown",
   "id": "ad9082b0",
   "metadata": {},
   "source": [
    "There are an outlier in one of Indian values, it's near of $10000 dollars and there are some values in United States than also alter the statistics, maybe there are true but it's not too close of the others."
   ]
  },
  {
   "cell_type": "code",
   "execution_count": 24,
   "id": "a3debaa1",
   "metadata": {},
   "outputs": [
    {
     "data": {
      "text/plain": [
       "United States of America    3143\n",
       "India                        526\n",
       "United Kingdom               367\n",
       "Canada                       303\n",
       "Name: CountryLive, dtype: int64"
      ]
     },
     "execution_count": 24,
     "metadata": {},
     "output_type": "execute_result"
    }
   ],
   "source": [
    "df3_copy[\"CountryLive\"].value_counts()"
   ]
  },
  {
   "cell_type": "code",
   "execution_count": 25,
   "id": "6616a06e",
   "metadata": {},
   "outputs": [],
   "source": [
    "outlier = df3_copy[(df3_copy[\"MoneyPerMonth\"] > 9500)].index\n",
    "df3_copy.drop(outlier,inplace=True)"
   ]
  },
  {
   "cell_type": "code",
   "execution_count": 26,
   "id": "f99a6360",
   "metadata": {},
   "outputs": [
    {
     "data": {
      "text/html": [
       "<div>\n",
       "<style scoped>\n",
       "    .dataframe tbody tr th:only-of-type {\n",
       "        vertical-align: middle;\n",
       "    }\n",
       "\n",
       "    .dataframe tbody tr th {\n",
       "        vertical-align: top;\n",
       "    }\n",
       "\n",
       "    .dataframe thead th {\n",
       "        text-align: right;\n",
       "    }\n",
       "</style>\n",
       "<table border=\"1\" class=\"dataframe\">\n",
       "  <thead>\n",
       "    <tr style=\"text-align: right;\">\n",
       "      <th></th>\n",
       "      <th>MoneyPerMonth</th>\n",
       "    </tr>\n",
       "    <tr>\n",
       "      <th>CountryLive</th>\n",
       "      <th></th>\n",
       "    </tr>\n",
       "  </thead>\n",
       "  <tbody>\n",
       "    <tr>\n",
       "      <th>Canada</th>\n",
       "      <td>225.923707</td>\n",
       "    </tr>\n",
       "    <tr>\n",
       "      <th>India</th>\n",
       "      <td>135.673310</td>\n",
       "    </tr>\n",
       "    <tr>\n",
       "      <th>United Kingdom</th>\n",
       "      <td>106.078845</td>\n",
       "    </tr>\n",
       "    <tr>\n",
       "      <th>United States of America</th>\n",
       "      <td>245.977252</td>\n",
       "    </tr>\n",
       "  </tbody>\n",
       "</table>\n",
       "</div>"
      ],
      "text/plain": [
       "                          MoneyPerMonth\n",
       "CountryLive                            \n",
       "Canada                       225.923707\n",
       "India                        135.673310\n",
       "United Kingdom               106.078845\n",
       "United States of America     245.977252"
      ]
     },
     "execution_count": 26,
     "metadata": {},
     "output_type": "execute_result"
    }
   ],
   "source": [
    "df3_copy.loc[:,[\"CountryLive\",\"MoneyPerMonth\"]].groupby(\"CountryLive\").mean()"
   ]
  },
  {
   "cell_type": "markdown",
   "id": "f48d6dc0",
   "metadata": {},
   "source": [
    "Considering the results we've found so far, one country we should definitely advertise in is the US. There are a lot of new coders living there and they are willing to pay a good amount of money each month. We need to choose one more market though."
   ]
  },
  {
   "cell_type": "markdown",
   "id": "7efa6bd3",
   "metadata": {},
   "source": [
    "To choose the second market to advertise in we'll drop the rows where `MoneyPerMonth` are less than $50 per month"
   ]
  },
  {
   "cell_type": "code",
   "execution_count": 27,
   "id": "d0e4cd3b",
   "metadata": {},
   "outputs": [],
   "source": [
    "outlier = df3_copy[(df3_copy[\"MoneyPerMonth\"] < 50)].index\n",
    "df3_copy.drop(outlier,inplace=True)"
   ]
  },
  {
   "cell_type": "code",
   "execution_count": 35,
   "id": "95adfbde",
   "metadata": {},
   "outputs": [
    {
     "data": {
      "text/html": [
       "<div>\n",
       "<style scoped>\n",
       "    .dataframe tbody tr th:only-of-type {\n",
       "        vertical-align: middle;\n",
       "    }\n",
       "\n",
       "    .dataframe tbody tr th {\n",
       "        vertical-align: top;\n",
       "    }\n",
       "\n",
       "    .dataframe thead th {\n",
       "        text-align: right;\n",
       "    }\n",
       "</style>\n",
       "<table border=\"1\" class=\"dataframe\">\n",
       "  <thead>\n",
       "    <tr style=\"text-align: right;\">\n",
       "      <th></th>\n",
       "      <th>MoneyPerMonth</th>\n",
       "    </tr>\n",
       "    <tr>\n",
       "      <th>CountryLive</th>\n",
       "      <th></th>\n",
       "    </tr>\n",
       "  </thead>\n",
       "  <tbody>\n",
       "    <tr>\n",
       "      <th>Canada</th>\n",
       "      <td>561.885310</td>\n",
       "    </tr>\n",
       "    <tr>\n",
       "      <th>India</th>\n",
       "      <td>449.372877</td>\n",
       "    </tr>\n",
       "    <tr>\n",
       "      <th>United Kingdom</th>\n",
       "      <td>323.555680</td>\n",
       "    </tr>\n",
       "    <tr>\n",
       "      <th>United States of America</th>\n",
       "      <td>555.616136</td>\n",
       "    </tr>\n",
       "  </tbody>\n",
       "</table>\n",
       "</div>"
      ],
      "text/plain": [
       "                          MoneyPerMonth\n",
       "CountryLive                            \n",
       "Canada                       561.885310\n",
       "India                        449.372877\n",
       "United Kingdom               323.555680\n",
       "United States of America     555.616136"
      ]
     },
     "execution_count": 35,
     "metadata": {},
     "output_type": "execute_result"
    }
   ],
   "source": [
    "df3_copy.loc[:,[\"CountryLive\",\"MoneyPerMonth\"]].groupby(\"CountryLive\").mean()"
   ]
  },
  {
   "cell_type": "markdown",
   "id": "f8969b12",
   "metadata": {},
   "source": [
    "Now we can see that the mean it's not a right tool to take this important decision because we already drop the members that usually pay less than $50 dollars in education increasing significatively the mean. I will choose the next country according to the number of members of each country that remains in our analysis."
   ]
  },
  {
   "cell_type": "code",
   "execution_count": 40,
   "id": "63bd7bfb",
   "metadata": {},
   "outputs": [
    {
     "data": {
      "text/html": [
       "<div>\n",
       "<style scoped>\n",
       "    .dataframe tbody tr th:only-of-type {\n",
       "        vertical-align: middle;\n",
       "    }\n",
       "\n",
       "    .dataframe tbody tr th {\n",
       "        vertical-align: top;\n",
       "    }\n",
       "\n",
       "    .dataframe thead th {\n",
       "        text-align: right;\n",
       "    }\n",
       "</style>\n",
       "<table border=\"1\" class=\"dataframe\">\n",
       "  <thead>\n",
       "    <tr style=\"text-align: right;\">\n",
       "      <th></th>\n",
       "      <th>MoneyPerMonth</th>\n",
       "    </tr>\n",
       "    <tr>\n",
       "      <th>CountryLive</th>\n",
       "      <th></th>\n",
       "    </tr>\n",
       "  </thead>\n",
       "  <tbody>\n",
       "    <tr>\n",
       "      <th>Canada</th>\n",
       "      <td>117</td>\n",
       "    </tr>\n",
       "    <tr>\n",
       "      <th>India</th>\n",
       "      <td>150</td>\n",
       "    </tr>\n",
       "    <tr>\n",
       "      <th>United Kingdom</th>\n",
       "      <td>110</td>\n",
       "    </tr>\n",
       "    <tr>\n",
       "      <th>United States of America</th>\n",
       "      <td>1340</td>\n",
       "    </tr>\n",
       "  </tbody>\n",
       "</table>\n",
       "</div>"
      ],
      "text/plain": [
       "                          MoneyPerMonth\n",
       "CountryLive                            \n",
       "Canada                              117\n",
       "India                               150\n",
       "United Kingdom                      110\n",
       "United States of America           1340"
      ]
     },
     "execution_count": 40,
     "metadata": {},
     "output_type": "execute_result"
    }
   ],
   "source": [
    "df3_copy.loc[:,[\"CountryLive\",\"MoneyPerMonth\"]].groupby(\"CountryLive\").count()"
   ]
  },
  {
   "cell_type": "markdown",
   "id": "5357fee3",
   "metadata": {},
   "source": [
    "The other country to advertise is India."
   ]
  },
  {
   "cell_type": "markdown",
   "id": "59b3c543",
   "metadata": {},
   "source": [
    "# Conclusions"
   ]
  },
  {
   "cell_type": "markdown",
   "id": "ae590011",
   "metadata": {},
   "source": [
    "In this project, we analized survey data from new coders to find the best two markets to advertise in. The only solid conclusion we reached is that the US would be a good market to advertise in. For the second best market we choose India beacause is the other with the greater number of potencial clients."
   ]
  }
 ],
 "metadata": {
  "kernelspec": {
   "display_name": "Python 3 (ipykernel)",
   "language": "python",
   "name": "python3"
  },
  "language_info": {
   "codemirror_mode": {
    "name": "ipython",
    "version": 3
   },
   "file_extension": ".py",
   "mimetype": "text/x-python",
   "name": "python",
   "nbconvert_exporter": "python",
   "pygments_lexer": "ipython3",
   "version": "3.9.7"
  }
 },
 "nbformat": 4,
 "nbformat_minor": 5
}

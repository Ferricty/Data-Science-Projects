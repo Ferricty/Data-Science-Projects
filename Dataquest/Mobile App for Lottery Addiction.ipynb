{
 "cells": [
  {
   "cell_type": "markdown",
   "id": "1b15c01d",
   "metadata": {},
   "source": [
    "# Mobile App for Lottery Addiction"
   ]
  },
  {
   "cell_type": "markdown",
   "id": "d80466d3",
   "metadata": {},
   "source": [
    "A medical institute that aims to prevent and treat gambling addictions wants to build a dedicated mobile app to help lottery addicts better estimate their chances of winning. The institute has a team of engineers that will build the app, but they need us to create the logical core of the app and calculate probabilities.\n",
    "\n",
    "Some of the questions that we need to answer are:\n",
    "* What is the probability of winning the big prize with a single ticket?\n",
    "* What is the probability of winning the big prize if we play 40 different tickets (or any other number)?\n",
    "* What is the probability of having at least five (or four, or three, or two) winning numbers on a sigle ticket?"
   ]
  },
  {
   "cell_type": "markdown",
   "id": "8b2dc4e4",
   "metadata": {},
   "source": [
    "Throughout the project, we'll need to calculate repeatedly probabilities and combinations. As a consequence, we'll start by writing two functions that we'll use often:\n",
    "* A function that calculates factorials\n",
    "\n",
    "$$P(n) = {n!}$$\n",
    "\n",
    "* A function that calculates combinations\n",
    "\n",
    "$$C(n,k) = \\frac{n!}{(n-k)!n!}$$"
   ]
  },
  {
   "cell_type": "code",
   "execution_count": 1,
   "id": "b55f293b",
   "metadata": {},
   "outputs": [
    {
     "name": "stdout",
     "output_type": "stream",
     "text": [
      "120\n",
      "0.0\n"
     ]
    }
   ],
   "source": [
    "# factorial function\n",
    "def factorial_manual(n):\n",
    "    result = 1\n",
    "    for i in range(n,0,-1):\n",
    "        result *= i\n",
    "    return result\n",
    "import time\n",
    "s = time.time()\n",
    "print(factorial_manual(5))\n",
    "e = time.time()\n",
    "print(e-s)"
   ]
  },
  {
   "cell_type": "code",
   "execution_count": 2,
   "id": "dc246115",
   "metadata": {},
   "outputs": [
    {
     "name": "stdout",
     "output_type": "stream",
     "text": [
      "120\n",
      "0.0\n"
     ]
    }
   ],
   "source": [
    "from math import factorial\n",
    "s = time.time()\n",
    "print(factorial(5))\n",
    "e = time.time()\n",
    "print(e-s)"
   ]
  },
  {
   "cell_type": "markdown",
   "id": "6efc0fe3",
   "metadata": {},
   "source": [
    "Both functions are vey fast but with big calculations the factorial imported from math has a better performance"
   ]
  },
  {
   "cell_type": "code",
   "execution_count": 3,
   "id": "2c18deb1",
   "metadata": {},
   "outputs": [
    {
     "data": {
      "text/plain": [
       "10.0"
      ]
     },
     "execution_count": 3,
     "metadata": {},
     "output_type": "execute_result"
    }
   ],
   "source": [
    "# function combinations\n",
    "def combinations(n,k):\n",
    "    return factorial(n)/(factorial(n-k)*factorial(k))\n",
    "combinations(5,3)"
   ]
  },
  {
   "cell_type": "markdown",
   "id": "b0088649",
   "metadata": {},
   "source": [
    "In the 6/49 lottery, six numbers are drawn from a set of 49 numbers that range from 1 to 49. A player wins the big price if the six numbers on their tickets match all the six numbers drawn."
   ]
  },
  {
   "cell_type": "markdown",
   "id": "d026570e",
   "metadata": {},
   "source": [
    "We'll start by building a function that calculates the probability of winning the big prize for **any given ticket**."
   ]
  },
  {
   "cell_type": "code",
   "execution_count": 4,
   "id": "165e8609",
   "metadata": {},
   "outputs": [
    {
     "name": "stdout",
     "output_type": "stream",
     "text": [
      "You have a chance of winning the lottery of 0.00000715 %,                \n",
      "In other words you have a chance of 1 in 13,983,816 to win with the numbers [10, 8, 5, 3, 48, 7].\n"
     ]
    }
   ],
   "source": [
    "def one_ticket_probability(numbers):\n",
    "    probability = 1/combinations(49,6)\n",
    "    return print(\"You have a chance of winning the lottery of {:.8f} %,\\\n",
    "                \\nIn other words you have a chance of 1 in {:,} to win with the numbers {}.\".format(probability*100,\n",
    "                                                                                       int(combinations(49,6)),\n",
    "                                                                                       numbers))\n",
    "numbers = [10,8,5,3,48,7]\n",
    "one_ticket_probability(numbers)"
   ]
  },
  {
   "cell_type": "markdown",
   "id": "373ad1e6",
   "metadata": {},
   "source": [
    "The institute also wants us to consider historical data coming from the national 6/49 lottery game in Canada. The [data set](https://www.kagle.com/datascienceai/lottery-dataset) has data for 3665 drawings, dating from 1982 to 2018."
   ]
  },
  {
   "cell_type": "code",
   "execution_count": 5,
   "id": "35233482",
   "metadata": {},
   "outputs": [],
   "source": [
    "import pandas as pd\n",
    "df = pd.read_csv(\"649.csv\")"
   ]
  },
  {
   "cell_type": "code",
   "execution_count": 6,
   "id": "90b7cabb",
   "metadata": {
    "scrolled": true
   },
   "outputs": [
    {
     "data": {
      "text/html": [
       "<div>\n",
       "<style scoped>\n",
       "    .dataframe tbody tr th:only-of-type {\n",
       "        vertical-align: middle;\n",
       "    }\n",
       "\n",
       "    .dataframe tbody tr th {\n",
       "        vertical-align: top;\n",
       "    }\n",
       "\n",
       "    .dataframe thead th {\n",
       "        text-align: right;\n",
       "    }\n",
       "</style>\n",
       "<table border=\"1\" class=\"dataframe\">\n",
       "  <thead>\n",
       "    <tr style=\"text-align: right;\">\n",
       "      <th></th>\n",
       "      <th>PRODUCT</th>\n",
       "      <th>DRAW NUMBER</th>\n",
       "      <th>SEQUENCE NUMBER</th>\n",
       "      <th>DRAW DATE</th>\n",
       "      <th>NUMBER DRAWN 1</th>\n",
       "      <th>NUMBER DRAWN 2</th>\n",
       "      <th>NUMBER DRAWN 3</th>\n",
       "      <th>NUMBER DRAWN 4</th>\n",
       "      <th>NUMBER DRAWN 5</th>\n",
       "      <th>NUMBER DRAWN 6</th>\n",
       "      <th>BONUS NUMBER</th>\n",
       "    </tr>\n",
       "  </thead>\n",
       "  <tbody>\n",
       "    <tr>\n",
       "      <th>0</th>\n",
       "      <td>649</td>\n",
       "      <td>1</td>\n",
       "      <td>0</td>\n",
       "      <td>6/12/1982</td>\n",
       "      <td>3</td>\n",
       "      <td>11</td>\n",
       "      <td>12</td>\n",
       "      <td>14</td>\n",
       "      <td>41</td>\n",
       "      <td>43</td>\n",
       "      <td>13</td>\n",
       "    </tr>\n",
       "    <tr>\n",
       "      <th>1</th>\n",
       "      <td>649</td>\n",
       "      <td>2</td>\n",
       "      <td>0</td>\n",
       "      <td>6/19/1982</td>\n",
       "      <td>8</td>\n",
       "      <td>33</td>\n",
       "      <td>36</td>\n",
       "      <td>37</td>\n",
       "      <td>39</td>\n",
       "      <td>41</td>\n",
       "      <td>9</td>\n",
       "    </tr>\n",
       "    <tr>\n",
       "      <th>2</th>\n",
       "      <td>649</td>\n",
       "      <td>3</td>\n",
       "      <td>0</td>\n",
       "      <td>6/26/1982</td>\n",
       "      <td>1</td>\n",
       "      <td>6</td>\n",
       "      <td>23</td>\n",
       "      <td>24</td>\n",
       "      <td>27</td>\n",
       "      <td>39</td>\n",
       "      <td>34</td>\n",
       "    </tr>\n",
       "  </tbody>\n",
       "</table>\n",
       "</div>"
      ],
      "text/plain": [
       "   PRODUCT  DRAW NUMBER  SEQUENCE NUMBER  DRAW DATE  NUMBER DRAWN 1  \\\n",
       "0      649            1                0  6/12/1982               3   \n",
       "1      649            2                0  6/19/1982               8   \n",
       "2      649            3                0  6/26/1982               1   \n",
       "\n",
       "   NUMBER DRAWN 2  NUMBER DRAWN 3  NUMBER DRAWN 4  NUMBER DRAWN 5  \\\n",
       "0              11              12              14              41   \n",
       "1              33              36              37              39   \n",
       "2               6              23              24              27   \n",
       "\n",
       "   NUMBER DRAWN 6  BONUS NUMBER  \n",
       "0              43            13  \n",
       "1              41             9  \n",
       "2              39            34  "
      ]
     },
     "execution_count": 6,
     "metadata": {},
     "output_type": "execute_result"
    }
   ],
   "source": [
    "df.head(3)"
   ]
  },
  {
   "cell_type": "code",
   "execution_count": 7,
   "id": "cd6d4803",
   "metadata": {
    "scrolled": true
   },
   "outputs": [
    {
     "data": {
      "text/html": [
       "<div>\n",
       "<style scoped>\n",
       "    .dataframe tbody tr th:only-of-type {\n",
       "        vertical-align: middle;\n",
       "    }\n",
       "\n",
       "    .dataframe tbody tr th {\n",
       "        vertical-align: top;\n",
       "    }\n",
       "\n",
       "    .dataframe thead th {\n",
       "        text-align: right;\n",
       "    }\n",
       "</style>\n",
       "<table border=\"1\" class=\"dataframe\">\n",
       "  <thead>\n",
       "    <tr style=\"text-align: right;\">\n",
       "      <th></th>\n",
       "      <th>PRODUCT</th>\n",
       "      <th>DRAW NUMBER</th>\n",
       "      <th>SEQUENCE NUMBER</th>\n",
       "      <th>DRAW DATE</th>\n",
       "      <th>NUMBER DRAWN 1</th>\n",
       "      <th>NUMBER DRAWN 2</th>\n",
       "      <th>NUMBER DRAWN 3</th>\n",
       "      <th>NUMBER DRAWN 4</th>\n",
       "      <th>NUMBER DRAWN 5</th>\n",
       "      <th>NUMBER DRAWN 6</th>\n",
       "      <th>BONUS NUMBER</th>\n",
       "    </tr>\n",
       "  </thead>\n",
       "  <tbody>\n",
       "    <tr>\n",
       "      <th>3662</th>\n",
       "      <td>649</td>\n",
       "      <td>3589</td>\n",
       "      <td>0</td>\n",
       "      <td>6/13/2018</td>\n",
       "      <td>6</td>\n",
       "      <td>22</td>\n",
       "      <td>24</td>\n",
       "      <td>31</td>\n",
       "      <td>32</td>\n",
       "      <td>34</td>\n",
       "      <td>16</td>\n",
       "    </tr>\n",
       "    <tr>\n",
       "      <th>3663</th>\n",
       "      <td>649</td>\n",
       "      <td>3590</td>\n",
       "      <td>0</td>\n",
       "      <td>6/16/2018</td>\n",
       "      <td>2</td>\n",
       "      <td>15</td>\n",
       "      <td>21</td>\n",
       "      <td>31</td>\n",
       "      <td>38</td>\n",
       "      <td>49</td>\n",
       "      <td>8</td>\n",
       "    </tr>\n",
       "    <tr>\n",
       "      <th>3664</th>\n",
       "      <td>649</td>\n",
       "      <td>3591</td>\n",
       "      <td>0</td>\n",
       "      <td>6/20/2018</td>\n",
       "      <td>14</td>\n",
       "      <td>24</td>\n",
       "      <td>31</td>\n",
       "      <td>35</td>\n",
       "      <td>37</td>\n",
       "      <td>48</td>\n",
       "      <td>17</td>\n",
       "    </tr>\n",
       "  </tbody>\n",
       "</table>\n",
       "</div>"
      ],
      "text/plain": [
       "      PRODUCT  DRAW NUMBER  SEQUENCE NUMBER  DRAW DATE  NUMBER DRAWN 1  \\\n",
       "3662      649         3589                0  6/13/2018               6   \n",
       "3663      649         3590                0  6/16/2018               2   \n",
       "3664      649         3591                0  6/20/2018              14   \n",
       "\n",
       "      NUMBER DRAWN 2  NUMBER DRAWN 3  NUMBER DRAWN 4  NUMBER DRAWN 5  \\\n",
       "3662              22              24              31              32   \n",
       "3663              15              21              31              38   \n",
       "3664              24              31              35              37   \n",
       "\n",
       "      NUMBER DRAWN 6  BONUS NUMBER  \n",
       "3662              34            16  \n",
       "3663              49             8  \n",
       "3664              48            17  "
      ]
     },
     "execution_count": 7,
     "metadata": {},
     "output_type": "execute_result"
    }
   ],
   "source": [
    "df.tail(3)"
   ]
  },
  {
   "cell_type": "code",
   "execution_count": 8,
   "id": "53004acb",
   "metadata": {},
   "outputs": [
    {
     "data": {
      "text/plain": [
       "(3665, 11)"
      ]
     },
     "execution_count": 8,
     "metadata": {},
     "output_type": "execute_result"
    }
   ],
   "source": [
    "df.shape"
   ]
  },
  {
   "cell_type": "code",
   "execution_count": 9,
   "id": "d2f8dcc8",
   "metadata": {
    "scrolled": false
   },
   "outputs": [
    {
     "name": "stdout",
     "output_type": "stream",
     "text": [
      "<class 'pandas.core.frame.DataFrame'>\n",
      "RangeIndex: 3665 entries, 0 to 3664\n",
      "Data columns (total 11 columns):\n",
      " #   Column           Non-Null Count  Dtype \n",
      "---  ------           --------------  ----- \n",
      " 0   PRODUCT          3665 non-null   int64 \n",
      " 1   DRAW NUMBER      3665 non-null   int64 \n",
      " 2   SEQUENCE NUMBER  3665 non-null   int64 \n",
      " 3   DRAW DATE        3665 non-null   object\n",
      " 4   NUMBER DRAWN 1   3665 non-null   int64 \n",
      " 5   NUMBER DRAWN 2   3665 non-null   int64 \n",
      " 6   NUMBER DRAWN 3   3665 non-null   int64 \n",
      " 7   NUMBER DRAWN 4   3665 non-null   int64 \n",
      " 8   NUMBER DRAWN 5   3665 non-null   int64 \n",
      " 9   NUMBER DRAWN 6   3665 non-null   int64 \n",
      " 10  BONUS NUMBER     3665 non-null   int64 \n",
      "dtypes: int64(10), object(1)\n",
      "memory usage: 315.1+ KB\n"
     ]
    }
   ],
   "source": [
    "df.info()"
   ]
  },
  {
   "cell_type": "markdown",
   "id": "0877bdcc",
   "metadata": {},
   "source": [
    "There aren't null cells in the file. The data set has 3665 rows and 11 columns."
   ]
  },
  {
   "cell_type": "markdown",
   "id": "b6409506",
   "metadata": {},
   "source": [
    "Write a function named extract_numbers() that takes as input a row of the lottery dataframe and returns a set containing all the six winning numbers"
   ]
  },
  {
   "cell_type": "code",
   "execution_count": 10,
   "id": "7e85099a",
   "metadata": {},
   "outputs": [
    {
     "data": {
      "text/plain": [
       "0     {3, 41, 11, 12, 43, 14}\n",
       "1     {33, 36, 37, 39, 8, 41}\n",
       "2      {1, 6, 39, 23, 24, 27}\n",
       "3      {3, 9, 10, 43, 13, 20}\n",
       "4     {34, 5, 14, 47, 21, 31}\n",
       "5     {8, 41, 20, 21, 25, 31}\n",
       "6    {33, 36, 42, 18, 25, 28}\n",
       "7     {7, 40, 16, 17, 48, 31}\n",
       "8     {37, 5, 38, 10, 23, 27}\n",
       "9     {4, 37, 46, 15, 48, 30}\n",
       "dtype: object"
      ]
     },
     "execution_count": 10,
     "metadata": {},
     "output_type": "execute_result"
    }
   ],
   "source": [
    "def extract_numbers(row):\n",
    "    return set(row)\n",
    "\n",
    "winner_numbers = df.iloc[:,4:10].apply(extract_numbers,axis = 1)\n",
    "winner_numbers.head(10)"
   ]
  },
  {
   "cell_type": "code",
   "execution_count": 11,
   "id": "efa10a07",
   "metadata": {},
   "outputs": [
    {
     "name": "stdout",
     "output_type": "stream",
     "text": [
      "This combination [1, 6, 39, 23, 24, 27] has occurred 1 times before.        \n",
      "In other words you have a chance of 1 in 13,983,816 to win the big prize.\n",
      "\n",
      "The combination [10, 8, 5, 3, 48, 7] has never occurred. This doesn't mean it's more likely to occur now.        \n",
      "In other words you have a chance of 1 in 13,983,816 to win the big prize.\n",
      "\n"
     ]
    }
   ],
   "source": [
    "def check_historical_occurence(numbers,historical_register):\n",
    "    '''\n",
    "    numbers: a Python list\n",
    "    historical_register: a Pandas series\n",
    "    '''\n",
    "    occurred = set(numbers) == historical_register\n",
    "    n_occurred = occurred.sum()\n",
    "    \n",
    "    if n_occurred ==0:\n",
    "        \n",
    "        return print(\"The combination {} has never occurred. This doesn't mean it's more likely to occur now.\\\n",
    "        \\nIn other words you have a chance of 1 in {:,} to win the big prize.\\n\".format(numbers,int(combinations(49,6)),\n",
    "                                                                                       numbers))\n",
    "    else:\n",
    "        return print(\"This combination {} has occurred {} times before.\\\n",
    "        \\nIn other words you have a chance of 1 in {:,} to win the big prize.\\n\".format(numbers,n_occurred,\n",
    "                                                                                        int(combinations(49,6)),\n",
    "                                                                                       numbers))\n",
    "\n",
    "check_historical_occurence([1, 6, 39, 23, 24, 27],winner_numbers)    \n",
    "check_historical_occurence(numbers,winner_numbers)    "
   ]
  },
  {
   "cell_type": "markdown",
   "id": "8e49ae13",
   "metadata": {},
   "source": [
    "## Multiple Tickets"
   ]
  },
  {
   "cell_type": "markdown",
   "id": "20746781",
   "metadata": {},
   "source": [
    "Lottery addicts usually play more than one ticket on a single drawing, thinking that this might increase their chances of winning significantly. Our purpose is to help them better estimate their chances of winning."
   ]
  },
  {
   "cell_type": "code",
   "execution_count": 12,
   "id": "f3f5e6c4",
   "metadata": {},
   "outputs": [
    {
     "name": "stdout",
     "output_type": "stream",
     "text": [
      "  Your chances to win the big price with 1 ticket are 0.00001%\n",
      "------------------------------------------------------------------------\n",
      "  Your chances to win the big price with 10 ticket are 0.00007%\n",
      "------------------------------------------------------------------------\n",
      "  Your chances to win the big price with 100 ticket are 0.00072%\n",
      "------------------------------------------------------------------------\n",
      "  Your chances to win the big price with 10000 ticket are 0.07151%\n",
      "------------------------------------------------------------------------\n",
      "  Your chances to win the big price with 1000000 ticket are 7.15112%\n",
      "------------------------------------------------------------------------\n",
      "  Your chances to win the big price with 6991908 ticket are 50.00000%\n",
      "------------------------------------------------------------------------\n",
      "  Your chances to win the big price with 13983816 ticket are 100.00000%\n",
      "------------------------------------------------------------------------\n"
     ]
    }
   ],
   "source": [
    "def multi_ticket_probability(number_of_tickets):\n",
    "    probability = number_of_tickets/combinations(49,6)\n",
    "    return print(f\"  Your chances to win the big price with {number_of_tickets} ticket are {probability*100:.5f}%\\n\\\n",
    "------------------------------------------------------------------------\")\n",
    "test = [1,10,100,10000,1000000,6991908,13983816]\n",
    "for i in test:\n",
    "    multi_ticket_probability(i)"
   ]
  },
  {
   "cell_type": "markdown",
   "id": "03386571",
   "metadata": {},
   "source": [
    "In most 6/49 lotteries there are smaller prizes if a player's ticket match two, three, four or five of the six numbers drawn. As a consecuence, the user might be interested in knowing the probability of having two, three, four or five winning numbers.\n",
    "\n",
    "Write a function named probability_less_6() which takes in an integer between 2 and 5 and prints information about the chances of winning depending on the value of that integer."
   ]
  },
  {
   "cell_type": "code",
   "execution_count": 13,
   "id": "c42878c7",
   "metadata": {},
   "outputs": [
    {
     "name": "stdout",
     "output_type": "stream",
     "text": [
      "Your chances of have 2 winner numbers with this ticket are 13.238 %.\n",
      "Your chances of have 3 winner numbers with this ticket are 1.765 %.\n",
      "Your chances of have 4 winner numbers with this ticket are 0.097 %.\n",
      "Your chances of have 5 winner numbers with this ticket are 0.002 %.\n"
     ]
    }
   ],
   "source": [
    "def probability_less_6(n_numbers):\n",
    "    combination_ticket = combinations(6,n_numbers)\n",
    "    probability = (combination_ticket*combinations(43,6-n_numbers))/combinations(49,6)\n",
    "    return print(f\"Your chances of have {n_numbers} winner numbers with this ticket are {probability*100:.3f} %.\")\n",
    "for i in range(2,6):\n",
    "    probability_less_6(i)"
   ]
  },
  {
   "cell_type": "markdown",
   "id": "70a5d1e0",
   "metadata": {},
   "source": [
    "Now let's create a function which calculates the probability of having at least two, three, four or five winning numbers"
   ]
  },
  {
   "cell_type": "code",
   "execution_count": 14,
   "id": "2631ca8c",
   "metadata": {},
   "outputs": [
    {
     "name": "stdout",
     "output_type": "stream",
     "text": [
      "The probability of having at least 2 winners numbers are than 52.951%.\n",
      "The probability of having at least 3 winners numbers are than 5.295%.\n",
      "The probability of having at least 4 winners numbers are than 0.194%.\n",
      "The probability of having at least 5 winners numbers are than 0.002%.\n"
     ]
    }
   ],
   "source": [
    "def probability_at_least(n_numbers):\n",
    "    result = 0\n",
    "    for i in range(n_numbers,6): \n",
    "        result+=combinations(6,n_numbers)*combinations(43,6-n_numbers)/combinations(49,6)\n",
    "    return print(f\"The probability of having at least {n_numbers} winners numbers are than {100*result:.3f}%.\")\n",
    "for i in [2,3,4,5]:\n",
    "    probability_at_least(i)"
   ]
  }
 ],
 "metadata": {
  "kernelspec": {
   "display_name": "Python 3 (ipykernel)",
   "language": "python",
   "name": "python3"
  },
  "language_info": {
   "codemirror_mode": {
    "name": "ipython",
    "version": 3
   },
   "file_extension": ".py",
   "mimetype": "text/x-python",
   "name": "python",
   "nbconvert_exporter": "python",
   "pygments_lexer": "ipython3",
   "version": "3.9.7"
  }
 },
 "nbformat": 4,
 "nbformat_minor": 5
}

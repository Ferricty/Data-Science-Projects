{
 "cells": [
  {
   "cell_type": "markdown",
   "id": "5f5273d8",
   "metadata": {},
   "source": [
    "# Most Played Steam Games"
   ]
  },
  {
   "cell_type": "markdown",
   "id": "952cadcb",
   "metadata": {},
   "source": [
    "In this project we go to examinate the most played games on **Steam**. Saving the information into a csv file and illustrating this proccess step by step."
   ]
  },
  {
   "cell_type": "markdown",
   "id": "a7ffbc90",
   "metadata": {},
   "source": [
    "## 1- Getting the data from 'https://steamdb.info/graph/' "
   ]
  },
  {
   "cell_type": "code",
   "execution_count": 1,
   "id": "8ae5d24e",
   "metadata": {},
   "outputs": [
    {
     "name": "stdout",
     "output_type": "stream",
     "text": [
      "[['Counter-Strike:', 'Global', 'Offensive', '707,360', '935,161', '1,308,963', '+'], ['Dota', '2', '609,839', '635,461', '1,295,114', '+'], ['PUBG:', 'BATTLEGROUNDS', '251,045', '404,972', '3,257,248', '+'], ['Apex', 'Legends', '185,118', '334,609', '511,676', '+'], ['Lost', 'Ark', '130,818', '198,287', '1,325,305', '+'], ['Grand', 'Theft', 'Auto', 'V', '109,897', '136,283', '364,548', '+'], ['The', 'Sims™', '4', '75,134', '75,134', '75,134', '+'], ['Wallpaper', 'Engine', '75,119', '102,220', '114,200', '+'], ['Rust', '72,199', '82,114', '245,243', '+'], ['Destiny', '2', '68,409', '103,063', '292,513', '+']]\n"
     ]
    }
   ],
   "source": [
    "from bs4 import BeautifulSoup\n",
    "import requests\n",
    "from urllib.request import Request, urlopen\n",
    "\n",
    "req = Request(\n",
    "    url='https://steamdb.info/graph/', \n",
    "    headers={'User-Agent': 'XYZ/3.0'}\n",
    ")\n",
    "webpage = urlopen(req, timeout=10).read()\n",
    "\n",
    "soup1=BeautifulSoup(webpage,'html.parser')\n",
    "\n",
    "\n",
    "class_ext=soup1.select('.app')\n",
    "l=[]\n",
    "for idx,item in enumerate(class_ext):\n",
    "\n",
    "    element = class_ext[idx].getText().split()\n",
    "    l.append(element)\n",
    "\n",
    "information=l[1:]\n",
    "# There is a lot of information so i will print the first 10 elements\n",
    "print(information[:10])"
   ]
  },
  {
   "cell_type": "code",
   "execution_count": 2,
   "id": "6a2044f8",
   "metadata": {},
   "outputs": [
    {
     "data": {
      "text/plain": [
       "[['Counter-Strike: Global Offensive', '707,360', '935,161', '1,308,963', '+'],\n",
       " ['Dota 2', '609,839', '635,461', '1,295,114', '+'],\n",
       " ['PUBG: BATTLEGROUNDS', '251,045', '404,972', '3,257,248', '+'],\n",
       " ['Apex Legends', '185,118', '334,609', '511,676', '+'],\n",
       " ['Lost Ark', '130,818', '198,287', '1,325,305', '+'],\n",
       " ['Grand Theft Auto V', '109,897', '136,283', '364,548', '+'],\n",
       " ['The Sims™ 4', '75,134', '75,134', '75,134', '+'],\n",
       " ['Wallpaper Engine', '75,119', '102,220', '114,200', '+'],\n",
       " ['Rust', '72,199', '82,114', '245,243', '+'],\n",
       " ['Destiny 2', '68,409', '103,063', '292,513', '+']]"
      ]
     },
     "execution_count": 2,
     "metadata": {},
     "output_type": "execute_result"
    }
   ],
   "source": [
    "new_information_most_played=[]\n",
    "for i in range(len(information)):\n",
    "    information_most_played_name=\" \".join(information[i][:-4])\n",
    "    information_most_played_last=information[i][-4:]\n",
    "    information_most_played_last.insert(0,information_most_played_name)\n",
    "    new_information_most_played.append(information_most_played_last)\n",
    "# There is a lot of information so i will print the first 10 elements\n",
    "new_information_most_played[:10]"
   ]
  },
  {
   "cell_type": "markdown",
   "id": "4fb58af4",
   "metadata": {},
   "source": [
    "## 2- Let's make a DataFrame."
   ]
  },
  {
   "cell_type": "code",
   "execution_count": 3,
   "id": "c8a26110",
   "metadata": {},
   "outputs": [
    {
     "data": {
      "text/html": [
       "<div>\n",
       "<style scoped>\n",
       "    .dataframe tbody tr th:only-of-type {\n",
       "        vertical-align: middle;\n",
       "    }\n",
       "\n",
       "    .dataframe tbody tr th {\n",
       "        vertical-align: top;\n",
       "    }\n",
       "\n",
       "    .dataframe thead th {\n",
       "        text-align: right;\n",
       "    }\n",
       "</style>\n",
       "<table border=\"1\" class=\"dataframe\">\n",
       "  <thead>\n",
       "    <tr style=\"text-align: right;\">\n",
       "      <th></th>\n",
       "      <th>Name</th>\n",
       "      <th>Current</th>\n",
       "      <th>Peak_24h</th>\n",
       "      <th>All time Peak</th>\n",
       "      <th>Plus</th>\n",
       "    </tr>\n",
       "  </thead>\n",
       "  <tbody>\n",
       "    <tr>\n",
       "      <th>0</th>\n",
       "      <td>Counter-Strike: Global Offensive</td>\n",
       "      <td>707,360</td>\n",
       "      <td>935,161</td>\n",
       "      <td>1,308,963</td>\n",
       "      <td>+</td>\n",
       "    </tr>\n",
       "    <tr>\n",
       "      <th>1</th>\n",
       "      <td>Dota 2</td>\n",
       "      <td>609,839</td>\n",
       "      <td>635,461</td>\n",
       "      <td>1,295,114</td>\n",
       "      <td>+</td>\n",
       "    </tr>\n",
       "    <tr>\n",
       "      <th>2</th>\n",
       "      <td>PUBG: BATTLEGROUNDS</td>\n",
       "      <td>251,045</td>\n",
       "      <td>404,972</td>\n",
       "      <td>3,257,248</td>\n",
       "      <td>+</td>\n",
       "    </tr>\n",
       "    <tr>\n",
       "      <th>3</th>\n",
       "      <td>Apex Legends</td>\n",
       "      <td>185,118</td>\n",
       "      <td>334,609</td>\n",
       "      <td>511,676</td>\n",
       "      <td>+</td>\n",
       "    </tr>\n",
       "    <tr>\n",
       "      <th>4</th>\n",
       "      <td>Lost Ark</td>\n",
       "      <td>130,818</td>\n",
       "      <td>198,287</td>\n",
       "      <td>1,325,305</td>\n",
       "      <td>+</td>\n",
       "    </tr>\n",
       "    <tr>\n",
       "      <th>...</th>\n",
       "      <td>...</td>\n",
       "      <td>...</td>\n",
       "      <td>...</td>\n",
       "      <td>...</td>\n",
       "      <td>...</td>\n",
       "    </tr>\n",
       "    <tr>\n",
       "      <th>5781</th>\n",
       "      <td>Freedom Cry</td>\n",
       "      <td>0</td>\n",
       "      <td>1</td>\n",
       "      <td>1,000</td>\n",
       "      <td>+</td>\n",
       "    </tr>\n",
       "    <tr>\n",
       "      <th>5782</th>\n",
       "      <td>Escape From Nazi Labs</td>\n",
       "      <td>0</td>\n",
       "      <td>0</td>\n",
       "      <td>1,000</td>\n",
       "      <td>+</td>\n",
       "    </tr>\n",
       "    <tr>\n",
       "      <th>5783</th>\n",
       "      <td>Project First Contact</td>\n",
       "      <td>0</td>\n",
       "      <td>2</td>\n",
       "      <td>1,000</td>\n",
       "      <td>+</td>\n",
       "    </tr>\n",
       "    <tr>\n",
       "      <th>5784</th>\n",
       "      <td>OutSplit</td>\n",
       "      <td>0</td>\n",
       "      <td>0</td>\n",
       "      <td>1,000</td>\n",
       "      <td>+</td>\n",
       "    </tr>\n",
       "    <tr>\n",
       "      <th>5785</th>\n",
       "      <td>Leif's Adventure: Netherworld Hero Demo</td>\n",
       "      <td>0</td>\n",
       "      <td>1</td>\n",
       "      <td>1,000</td>\n",
       "      <td>+</td>\n",
       "    </tr>\n",
       "  </tbody>\n",
       "</table>\n",
       "<p>5786 rows × 5 columns</p>\n",
       "</div>"
      ],
      "text/plain": [
       "                                         Name  Current Peak_24h All time Peak  \\\n",
       "0            Counter-Strike: Global Offensive  707,360  935,161     1,308,963   \n",
       "1                                      Dota 2  609,839  635,461     1,295,114   \n",
       "2                         PUBG: BATTLEGROUNDS  251,045  404,972     3,257,248   \n",
       "3                                Apex Legends  185,118  334,609       511,676   \n",
       "4                                    Lost Ark  130,818  198,287     1,325,305   \n",
       "...                                       ...      ...      ...           ...   \n",
       "5781                              Freedom Cry        0        1         1,000   \n",
       "5782                    Escape From Nazi Labs        0        0         1,000   \n",
       "5783                    Project First Contact        0        2         1,000   \n",
       "5784                                 OutSplit        0        0         1,000   \n",
       "5785  Leif's Adventure: Netherworld Hero Demo        0        1         1,000   \n",
       "\n",
       "     Plus  \n",
       "0       +  \n",
       "1       +  \n",
       "2       +  \n",
       "3       +  \n",
       "4       +  \n",
       "...   ...  \n",
       "5781    +  \n",
       "5782    +  \n",
       "5783    +  \n",
       "5784    +  \n",
       "5785    +  \n",
       "\n",
       "[5786 rows x 5 columns]"
      ]
     },
     "execution_count": 3,
     "metadata": {},
     "output_type": "execute_result"
    }
   ],
   "source": [
    "import pandas as pd\n",
    "df_most_played=pd.DataFrame(new_information_most_played,columns=[\"Name\",\"Current\",\"Peak_24h\",\"All time Peak\",\"Plus\"])\n",
    "df_most_played"
   ]
  },
  {
   "cell_type": "markdown",
   "id": "6f9cf83f",
   "metadata": {},
   "source": [
    "## 3- Drop \"Plus\" column"
   ]
  },
  {
   "cell_type": "code",
   "execution_count": 4,
   "id": "2a870bad",
   "metadata": {},
   "outputs": [
    {
     "data": {
      "text/html": [
       "<div>\n",
       "<style scoped>\n",
       "    .dataframe tbody tr th:only-of-type {\n",
       "        vertical-align: middle;\n",
       "    }\n",
       "\n",
       "    .dataframe tbody tr th {\n",
       "        vertical-align: top;\n",
       "    }\n",
       "\n",
       "    .dataframe thead th {\n",
       "        text-align: right;\n",
       "    }\n",
       "</style>\n",
       "<table border=\"1\" class=\"dataframe\">\n",
       "  <thead>\n",
       "    <tr style=\"text-align: right;\">\n",
       "      <th></th>\n",
       "      <th>Name</th>\n",
       "      <th>Current</th>\n",
       "      <th>Peak_24h</th>\n",
       "      <th>All time Peak</th>\n",
       "    </tr>\n",
       "  </thead>\n",
       "  <tbody>\n",
       "    <tr>\n",
       "      <th>0</th>\n",
       "      <td>Counter-Strike: Global Offensive</td>\n",
       "      <td>707,360</td>\n",
       "      <td>935,161</td>\n",
       "      <td>1,308,963</td>\n",
       "    </tr>\n",
       "    <tr>\n",
       "      <th>1</th>\n",
       "      <td>Dota 2</td>\n",
       "      <td>609,839</td>\n",
       "      <td>635,461</td>\n",
       "      <td>1,295,114</td>\n",
       "    </tr>\n",
       "    <tr>\n",
       "      <th>2</th>\n",
       "      <td>PUBG: BATTLEGROUNDS</td>\n",
       "      <td>251,045</td>\n",
       "      <td>404,972</td>\n",
       "      <td>3,257,248</td>\n",
       "    </tr>\n",
       "    <tr>\n",
       "      <th>3</th>\n",
       "      <td>Apex Legends</td>\n",
       "      <td>185,118</td>\n",
       "      <td>334,609</td>\n",
       "      <td>511,676</td>\n",
       "    </tr>\n",
       "    <tr>\n",
       "      <th>4</th>\n",
       "      <td>Lost Ark</td>\n",
       "      <td>130,818</td>\n",
       "      <td>198,287</td>\n",
       "      <td>1,325,305</td>\n",
       "    </tr>\n",
       "    <tr>\n",
       "      <th>...</th>\n",
       "      <td>...</td>\n",
       "      <td>...</td>\n",
       "      <td>...</td>\n",
       "      <td>...</td>\n",
       "    </tr>\n",
       "    <tr>\n",
       "      <th>5781</th>\n",
       "      <td>Freedom Cry</td>\n",
       "      <td>0</td>\n",
       "      <td>1</td>\n",
       "      <td>1,000</td>\n",
       "    </tr>\n",
       "    <tr>\n",
       "      <th>5782</th>\n",
       "      <td>Escape From Nazi Labs</td>\n",
       "      <td>0</td>\n",
       "      <td>0</td>\n",
       "      <td>1,000</td>\n",
       "    </tr>\n",
       "    <tr>\n",
       "      <th>5783</th>\n",
       "      <td>Project First Contact</td>\n",
       "      <td>0</td>\n",
       "      <td>2</td>\n",
       "      <td>1,000</td>\n",
       "    </tr>\n",
       "    <tr>\n",
       "      <th>5784</th>\n",
       "      <td>OutSplit</td>\n",
       "      <td>0</td>\n",
       "      <td>0</td>\n",
       "      <td>1,000</td>\n",
       "    </tr>\n",
       "    <tr>\n",
       "      <th>5785</th>\n",
       "      <td>Leif's Adventure: Netherworld Hero Demo</td>\n",
       "      <td>0</td>\n",
       "      <td>1</td>\n",
       "      <td>1,000</td>\n",
       "    </tr>\n",
       "  </tbody>\n",
       "</table>\n",
       "<p>5786 rows × 4 columns</p>\n",
       "</div>"
      ],
      "text/plain": [
       "                                         Name  Current Peak_24h All time Peak\n",
       "0            Counter-Strike: Global Offensive  707,360  935,161     1,308,963\n",
       "1                                      Dota 2  609,839  635,461     1,295,114\n",
       "2                         PUBG: BATTLEGROUNDS  251,045  404,972     3,257,248\n",
       "3                                Apex Legends  185,118  334,609       511,676\n",
       "4                                    Lost Ark  130,818  198,287     1,325,305\n",
       "...                                       ...      ...      ...           ...\n",
       "5781                              Freedom Cry        0        1         1,000\n",
       "5782                    Escape From Nazi Labs        0        0         1,000\n",
       "5783                    Project First Contact        0        2         1,000\n",
       "5784                                 OutSplit        0        0         1,000\n",
       "5785  Leif's Adventure: Netherworld Hero Demo        0        1         1,000\n",
       "\n",
       "[5786 rows x 4 columns]"
      ]
     },
     "execution_count": 4,
     "metadata": {},
     "output_type": "execute_result"
    }
   ],
   "source": [
    "df_most_played.drop(\"Plus\",axis=1,inplace=True)\n",
    "df_most_played"
   ]
  },
  {
   "cell_type": "markdown",
   "id": "652138f7",
   "metadata": {},
   "source": [
    "## 4-  Analizing the information"
   ]
  },
  {
   "cell_type": "markdown",
   "id": "e97d7975",
   "metadata": {},
   "source": [
    "### Checking the type of each column"
   ]
  },
  {
   "cell_type": "code",
   "execution_count": 5,
   "id": "4944b202",
   "metadata": {},
   "outputs": [
    {
     "name": "stdout",
     "output_type": "stream",
     "text": [
      "<class 'pandas.core.frame.DataFrame'>\n",
      "RangeIndex: 5786 entries, 0 to 5785\n",
      "Data columns (total 4 columns):\n",
      " #   Column         Non-Null Count  Dtype \n",
      "---  ------         --------------  ----- \n",
      " 0   Name           5786 non-null   object\n",
      " 1   Current        5786 non-null   object\n",
      " 2   Peak_24h       5786 non-null   object\n",
      " 3   All time Peak  5786 non-null   object\n",
      "dtypes: object(4)\n",
      "memory usage: 180.9+ KB\n"
     ]
    }
   ],
   "source": [
    "df_most_played.info()"
   ]
  },
  {
   "cell_type": "markdown",
   "id": "767cffb6",
   "metadata": {},
   "source": [
    "Let's remove \",\" character from Players Now and Peak Today columns to convert them values as numeric"
   ]
  },
  {
   "cell_type": "code",
   "execution_count": 6,
   "id": "3ce48159",
   "metadata": {},
   "outputs": [],
   "source": [
    "df_most_played[\"Current\"]=df_most_played[\"Current\"].str.replace(\",\",\"\")\n",
    "df_most_played[\"Peak_24h\"]=df_most_played[\"Peak_24h\"].str.replace(\",\",\"\")\n",
    "df_most_played[\"All time Peak\"]=df_most_played[\"All time Peak\"].str.replace(\",\",\"\")"
   ]
  },
  {
   "cell_type": "markdown",
   "id": "4e91129f",
   "metadata": {},
   "source": [
    "### Transforming the type of \"Current\", \"Peak_24h\" and \"All time Peak\" columns to integer"
   ]
  },
  {
   "cell_type": "code",
   "execution_count": 7,
   "id": "9b70e437",
   "metadata": {},
   "outputs": [
    {
     "name": "stdout",
     "output_type": "stream",
     "text": [
      "<class 'pandas.core.frame.DataFrame'>\n",
      "RangeIndex: 5786 entries, 0 to 5785\n",
      "Data columns (total 4 columns):\n",
      " #   Column         Non-Null Count  Dtype \n",
      "---  ------         --------------  ----- \n",
      " 0   Name           5786 non-null   object\n",
      " 1   Current        5786 non-null   int32 \n",
      " 2   Peak_24h       5786 non-null   int32 \n",
      " 3   All time Peak  5786 non-null   int32 \n",
      "dtypes: int32(3), object(1)\n",
      "memory usage: 113.1+ KB\n"
     ]
    }
   ],
   "source": [
    "df_most_played[\"Current\"]=df_most_played[\"Current\"].astype(int)\n",
    "df_most_played[\"Peak_24h\"]=df_most_played[\"Peak_24h\"].astype(int)\n",
    "df_most_played[\"All time Peak\"]=df_most_played[\"All time Peak\"].astype(int)\n",
    "df_most_played.info()"
   ]
  },
  {
   "cell_type": "code",
   "execution_count": 8,
   "id": "e6ea9025",
   "metadata": {},
   "outputs": [
    {
     "data": {
      "text/html": [
       "<div>\n",
       "<style scoped>\n",
       "    .dataframe tbody tr th:only-of-type {\n",
       "        vertical-align: middle;\n",
       "    }\n",
       "\n",
       "    .dataframe tbody tr th {\n",
       "        vertical-align: top;\n",
       "    }\n",
       "\n",
       "    .dataframe thead th {\n",
       "        text-align: right;\n",
       "    }\n",
       "</style>\n",
       "<table border=\"1\" class=\"dataframe\">\n",
       "  <thead>\n",
       "    <tr style=\"text-align: right;\">\n",
       "      <th></th>\n",
       "      <th>Current</th>\n",
       "      <th>Peak_24h</th>\n",
       "      <th>All time Peak</th>\n",
       "    </tr>\n",
       "  </thead>\n",
       "  <tbody>\n",
       "    <tr>\n",
       "      <th>count</th>\n",
       "      <td>5786.000000</td>\n",
       "      <td>5786.000000</td>\n",
       "      <td>5.786000e+03</td>\n",
       "    </tr>\n",
       "    <tr>\n",
       "      <th>mean</th>\n",
       "      <td>996.743000</td>\n",
       "      <td>1270.354303</td>\n",
       "      <td>1.150071e+04</td>\n",
       "    </tr>\n",
       "    <tr>\n",
       "      <th>std</th>\n",
       "      <td>13655.964961</td>\n",
       "      <td>17324.987698</td>\n",
       "      <td>6.457459e+04</td>\n",
       "    </tr>\n",
       "    <tr>\n",
       "      <th>min</th>\n",
       "      <td>0.000000</td>\n",
       "      <td>0.000000</td>\n",
       "      <td>6.500000e+01</td>\n",
       "    </tr>\n",
       "    <tr>\n",
       "      <th>25%</th>\n",
       "      <td>0.000000</td>\n",
       "      <td>2.000000</td>\n",
       "      <td>1.322250e+03</td>\n",
       "    </tr>\n",
       "    <tr>\n",
       "      <th>50%</th>\n",
       "      <td>30.000000</td>\n",
       "      <td>48.000000</td>\n",
       "      <td>2.305000e+03</td>\n",
       "    </tr>\n",
       "    <tr>\n",
       "      <th>75%</th>\n",
       "      <td>149.750000</td>\n",
       "      <td>202.000000</td>\n",
       "      <td>5.599500e+03</td>\n",
       "    </tr>\n",
       "    <tr>\n",
       "      <th>max</th>\n",
       "      <td>707360.000000</td>\n",
       "      <td>935161.000000</td>\n",
       "      <td>3.257248e+06</td>\n",
       "    </tr>\n",
       "  </tbody>\n",
       "</table>\n",
       "</div>"
      ],
      "text/plain": [
       "             Current       Peak_24h  All time Peak\n",
       "count    5786.000000    5786.000000   5.786000e+03\n",
       "mean      996.743000    1270.354303   1.150071e+04\n",
       "std     13655.964961   17324.987698   6.457459e+04\n",
       "min         0.000000       0.000000   6.500000e+01\n",
       "25%         0.000000       2.000000   1.322250e+03\n",
       "50%        30.000000      48.000000   2.305000e+03\n",
       "75%       149.750000     202.000000   5.599500e+03\n",
       "max    707360.000000  935161.000000   3.257248e+06"
      ]
     },
     "execution_count": 8,
     "metadata": {},
     "output_type": "execute_result"
    }
   ],
   "source": [
    "df_most_played.describe()"
   ]
  },
  {
   "cell_type": "markdown",
   "id": "fa2fd9aa",
   "metadata": {},
   "source": [
    "## 5- Saving the dataframe into a csv file"
   ]
  },
  {
   "cell_type": "code",
   "execution_count": 9,
   "id": "978c01a9",
   "metadata": {},
   "outputs": [],
   "source": [
    "df_most_played.to_csv(\"MOST_PLAYED_GAMES_IN_STEAM.csv\",index=None)"
   ]
  },
  {
   "cell_type": "code",
   "execution_count": 10,
   "id": "320abe6d",
   "metadata": {},
   "outputs": [
    {
     "data": {
      "text/html": [
       "<div>\n",
       "<style scoped>\n",
       "    .dataframe tbody tr th:only-of-type {\n",
       "        vertical-align: middle;\n",
       "    }\n",
       "\n",
       "    .dataframe tbody tr th {\n",
       "        vertical-align: top;\n",
       "    }\n",
       "\n",
       "    .dataframe thead th {\n",
       "        text-align: right;\n",
       "    }\n",
       "</style>\n",
       "<table border=\"1\" class=\"dataframe\">\n",
       "  <thead>\n",
       "    <tr style=\"text-align: right;\">\n",
       "      <th></th>\n",
       "      <th>Name</th>\n",
       "      <th>All time Peak</th>\n",
       "    </tr>\n",
       "  </thead>\n",
       "  <tbody>\n",
       "    <tr>\n",
       "      <th>2</th>\n",
       "      <td>PUBG: BATTLEGROUNDS</td>\n",
       "      <td>3257248</td>\n",
       "    </tr>\n",
       "    <tr>\n",
       "      <th>4</th>\n",
       "      <td>Lost Ark</td>\n",
       "      <td>1325305</td>\n",
       "    </tr>\n",
       "    <tr>\n",
       "      <th>0</th>\n",
       "      <td>Counter-Strike: Global Offensive</td>\n",
       "      <td>1308963</td>\n",
       "    </tr>\n",
       "    <tr>\n",
       "      <th>1</th>\n",
       "      <td>Dota 2</td>\n",
       "      <td>1295114</td>\n",
       "    </tr>\n",
       "    <tr>\n",
       "      <th>17</th>\n",
       "      <td>Cyberpunk 2077</td>\n",
       "      <td>1054388</td>\n",
       "    </tr>\n",
       "    <tr>\n",
       "      <th>31</th>\n",
       "      <td>ELDEN RING</td>\n",
       "      <td>953426</td>\n",
       "    </tr>\n",
       "    <tr>\n",
       "      <th>13</th>\n",
       "      <td>New World</td>\n",
       "      <td>913634</td>\n",
       "    </tr>\n",
       "    <tr>\n",
       "      <th>3</th>\n",
       "      <td>Apex Legends</td>\n",
       "      <td>511676</td>\n",
       "    </tr>\n",
       "    <tr>\n",
       "      <th>74</th>\n",
       "      <td>Valheim</td>\n",
       "      <td>502387</td>\n",
       "    </tr>\n",
       "    <tr>\n",
       "      <th>12</th>\n",
       "      <td>Terraria</td>\n",
       "      <td>489886</td>\n",
       "    </tr>\n",
       "  </tbody>\n",
       "</table>\n",
       "</div>"
      ],
      "text/plain": [
       "                                Name  All time Peak\n",
       "2                PUBG: BATTLEGROUNDS        3257248\n",
       "4                           Lost Ark        1325305\n",
       "0   Counter-Strike: Global Offensive        1308963\n",
       "1                             Dota 2        1295114\n",
       "17                    Cyberpunk 2077        1054388\n",
       "31                        ELDEN RING         953426\n",
       "13                         New World         913634\n",
       "3                       Apex Legends         511676\n",
       "74                           Valheim         502387\n",
       "12                          Terraria         489886"
      ]
     },
     "execution_count": 10,
     "metadata": {},
     "output_type": "execute_result"
    }
   ],
   "source": [
    "df_most_played_most_all_time_peak=df_most_played.sort_values(\"All time Peak\",ascending=False)\n",
    "df_most_played_most_all_time_peak_10=df_most_played_most_all_time_peak[[\"Name\",\"All time Peak\"]].head(10)\n",
    "df_most_played_most_all_time_peak_10"
   ]
  },
  {
   "cell_type": "markdown",
   "id": "e7429fe0",
   "metadata": {},
   "source": [
    "## Let's build some charts to illustrate the data"
   ]
  },
  {
   "cell_type": "code",
   "execution_count": 11,
   "id": "d266fa1f",
   "metadata": {},
   "outputs": [
    {
     "data": {
      "image/png": "[encoded data removed]",
      "text/plain": [
       "<Figure size 450x500 with 1 Axes>"
      ]
     },
     "metadata": {},
     "output_type": "display_data"
    }
   ],
   "source": [
    "import matplotlib.pyplot as plt\n",
    "import seaborn as sns\n",
    "\n",
    "fig,ax =plt.subplots(figsize=(4.5,5),dpi=100)\n",
    "ax.text(x=-1500000,y=-2,s='Top 10 of Most Played Games on Steam',weight='bold',size=15,color=\"#040045\")\n",
    "sns.barplot(x = 'All time Peak', y = 'Name', data = df_most_played_most_all_time_peak_10, palette='Spectral_r')\n",
    "for location in [\"left\",\"right\",\"bottom\",\"top\"]:\n",
    "    ax.spines[location].set_visible(False)\n",
    "ax.set(xlabel=None,ylabel=None)\n",
    "ax.xaxis.tick_top()\n",
    "ax.tick_params(top=False,left=False)\n",
    "ax.tick_params(axis='x',colors='grey')\n",
    "ax.set_yticks([])\n",
    "names_models=df_most_played_most_all_time_peak_10[\"Name\"]\n",
    "for i,models in zip(range(16),names_models):\n",
    "    ax.text(x=-2600000,y=i+0.12,s=models,fontweight=\"bold\",color=\"#005566\",alpha=1)\n",
    "ax.axvline(x=1000000,ymin=0,ymax=1,c='grey',alpha=0.5)\n",
    "ax.set_facecolor('#FFFFFF')\n",
    "fig.patch.set_facecolor('w')\n",
    "plt.show()"
   ]
  },
  {
   "cell_type": "code",
   "execution_count": 12,
   "id": "a8982a0b",
   "metadata": {},
   "outputs": [
    {
     "data": {
      "text/html": [
       "<div>\n",
       "<style scoped>\n",
       "    .dataframe tbody tr th:only-of-type {\n",
       "        vertical-align: middle;\n",
       "    }\n",
       "\n",
       "    .dataframe tbody tr th {\n",
       "        vertical-align: top;\n",
       "    }\n",
       "\n",
       "    .dataframe thead th {\n",
       "        text-align: right;\n",
       "    }\n",
       "</style>\n",
       "<table border=\"1\" class=\"dataframe\">\n",
       "  <thead>\n",
       "    <tr style=\"text-align: right;\">\n",
       "      <th></th>\n",
       "      <th>Name</th>\n",
       "      <th>Peak_24h</th>\n",
       "    </tr>\n",
       "  </thead>\n",
       "  <tbody>\n",
       "    <tr>\n",
       "      <th>0</th>\n",
       "      <td>Counter-Strike: Global Offensive</td>\n",
       "      <td>935161</td>\n",
       "    </tr>\n",
       "    <tr>\n",
       "      <th>1</th>\n",
       "      <td>Dota 2</td>\n",
       "      <td>635461</td>\n",
       "    </tr>\n",
       "    <tr>\n",
       "      <th>2</th>\n",
       "      <td>PUBG: BATTLEGROUNDS</td>\n",
       "      <td>404972</td>\n",
       "    </tr>\n",
       "    <tr>\n",
       "      <th>3</th>\n",
       "      <td>Apex Legends</td>\n",
       "      <td>334609</td>\n",
       "    </tr>\n",
       "    <tr>\n",
       "      <th>4</th>\n",
       "      <td>Lost Ark</td>\n",
       "      <td>198287</td>\n",
       "    </tr>\n",
       "    <tr>\n",
       "      <th>5</th>\n",
       "      <td>Grand Theft Auto V</td>\n",
       "      <td>136283</td>\n",
       "    </tr>\n",
       "    <tr>\n",
       "      <th>18</th>\n",
       "      <td>NARAKA: BLADEPOINT</td>\n",
       "      <td>120385</td>\n",
       "    </tr>\n",
       "    <tr>\n",
       "      <th>9</th>\n",
       "      <td>Destiny 2</td>\n",
       "      <td>103063</td>\n",
       "    </tr>\n",
       "    <tr>\n",
       "      <th>7</th>\n",
       "      <td>Wallpaper Engine</td>\n",
       "      <td>102220</td>\n",
       "    </tr>\n",
       "    <tr>\n",
       "      <th>10</th>\n",
       "      <td>Team Fortress 2</td>\n",
       "      <td>82576</td>\n",
       "    </tr>\n",
       "  </tbody>\n",
       "</table>\n",
       "</div>"
      ],
      "text/plain": [
       "                                Name  Peak_24h\n",
       "0   Counter-Strike: Global Offensive    935161\n",
       "1                             Dota 2    635461\n",
       "2                PUBG: BATTLEGROUNDS    404972\n",
       "3                       Apex Legends    334609\n",
       "4                           Lost Ark    198287\n",
       "5                 Grand Theft Auto V    136283\n",
       "18                NARAKA: BLADEPOINT    120385\n",
       "9                          Destiny 2    103063\n",
       "7                   Wallpaper Engine    102220\n",
       "10                   Team Fortress 2     82576"
      ]
     },
     "execution_count": 12,
     "metadata": {},
     "output_type": "execute_result"
    }
   ],
   "source": [
    "df_most_played_most_all_time_peak_Peak_24h=df_most_played.sort_values(\"Peak_24h\",ascending=False)\n",
    "df_most_played_most_all_time_peak_Peak_24h_10=df_most_played_most_all_time_peak_Peak_24h[[\"Name\",\"Peak_24h\"]].head(10)\n",
    "df_most_played_most_all_time_peak_Peak_24h_10"
   ]
  },
  {
   "cell_type": "code",
   "execution_count": 13,
   "id": "5195d913",
   "metadata": {},
   "outputs": [
    {
     "data": {
      "image/png": "[encoded data removed]",
      "text/plain": [
       "<Figure size 450x500 with 1 Axes>"
      ]
     },
     "metadata": {},
     "output_type": "display_data"
    }
   ],
   "source": [
    "fig,ax =plt.subplots(figsize=(4.5,5),dpi=100)\n",
    "ax.text(x=-700000,y=-2,s='Top 10 of Most Played Games on Steam in the last 24h',weight='bold',size=15,color=\"#040045\")\n",
    "sns.barplot(x = 'Peak_24h', y = 'Name', data = df_most_played_most_all_time_peak_Peak_24h_10, palette='Spectral_r')\n",
    "for location in [\"left\",\"right\",\"bottom\",\"top\"]:\n",
    "    ax.spines[location].set_visible(False)\n",
    "ax.set(xlabel=None,ylabel=None)\n",
    "ax.xaxis.tick_top()\n",
    "ax.set_xticks([0,400000,800000])\n",
    "ax.tick_params(top=False,left=False)\n",
    "ax.tick_params(axis='x',colors='grey')\n",
    "ax.set_yticks([])\n",
    "names_models=df_most_played_most_all_time_peak_Peak_24h_10[\"Name\"]\n",
    "for i,models in zip(range(16),names_models):\n",
    "    ax.text(x=-800000,y=i+0.12,s=models,fontweight=\"bold\",color=\"#005566\",alpha=1)\n",
    "ax.axvline(x=400000,ymin=0,ymax=1,c='grey',alpha=0.5)\n",
    "ax.set_facecolor('#FFFFFF')\n",
    "fig.patch.set_facecolor('w')\n",
    "plt.show()"
   ]
  },
  {
   "cell_type": "code",
   "execution_count": 14,
   "id": "e4ff3937",
   "metadata": {},
   "outputs": [
    {
     "data": {
      "text/html": [
       "<div>\n",
       "<style scoped>\n",
       "    .dataframe tbody tr th:only-of-type {\n",
       "        vertical-align: middle;\n",
       "    }\n",
       "\n",
       "    .dataframe tbody tr th {\n",
       "        vertical-align: top;\n",
       "    }\n",
       "\n",
       "    .dataframe thead th {\n",
       "        text-align: right;\n",
       "    }\n",
       "</style>\n",
       "<table border=\"1\" class=\"dataframe\">\n",
       "  <thead>\n",
       "    <tr style=\"text-align: right;\">\n",
       "      <th></th>\n",
       "      <th>Name</th>\n",
       "      <th>Current</th>\n",
       "    </tr>\n",
       "  </thead>\n",
       "  <tbody>\n",
       "    <tr>\n",
       "      <th>0</th>\n",
       "      <td>Counter-Strike: Global Offensive</td>\n",
       "      <td>707360</td>\n",
       "    </tr>\n",
       "    <tr>\n",
       "      <th>1</th>\n",
       "      <td>Dota 2</td>\n",
       "      <td>609839</td>\n",
       "    </tr>\n",
       "    <tr>\n",
       "      <th>2</th>\n",
       "      <td>PUBG: BATTLEGROUNDS</td>\n",
       "      <td>251045</td>\n",
       "    </tr>\n",
       "    <tr>\n",
       "      <th>3</th>\n",
       "      <td>Apex Legends</td>\n",
       "      <td>185118</td>\n",
       "    </tr>\n",
       "    <tr>\n",
       "      <th>4</th>\n",
       "      <td>Lost Ark</td>\n",
       "      <td>130818</td>\n",
       "    </tr>\n",
       "    <tr>\n",
       "      <th>5</th>\n",
       "      <td>Grand Theft Auto V</td>\n",
       "      <td>109897</td>\n",
       "    </tr>\n",
       "    <tr>\n",
       "      <th>6</th>\n",
       "      <td>The Sims™ 4</td>\n",
       "      <td>75134</td>\n",
       "    </tr>\n",
       "    <tr>\n",
       "      <th>7</th>\n",
       "      <td>Wallpaper Engine</td>\n",
       "      <td>75119</td>\n",
       "    </tr>\n",
       "    <tr>\n",
       "      <th>8</th>\n",
       "      <td>Rust</td>\n",
       "      <td>72199</td>\n",
       "    </tr>\n",
       "    <tr>\n",
       "      <th>9</th>\n",
       "      <td>Destiny 2</td>\n",
       "      <td>68409</td>\n",
       "    </tr>\n",
       "  </tbody>\n",
       "</table>\n",
       "</div>"
      ],
      "text/plain": [
       "                               Name  Current\n",
       "0  Counter-Strike: Global Offensive   707360\n",
       "1                            Dota 2   609839\n",
       "2               PUBG: BATTLEGROUNDS   251045\n",
       "3                      Apex Legends   185118\n",
       "4                          Lost Ark   130818\n",
       "5                Grand Theft Auto V   109897\n",
       "6                       The Sims™ 4    75134\n",
       "7                  Wallpaper Engine    75119\n",
       "8                              Rust    72199\n",
       "9                         Destiny 2    68409"
      ]
     },
     "execution_count": 14,
     "metadata": {},
     "output_type": "execute_result"
    }
   ],
   "source": [
    "df_most_played_most_all_time_peak_Peak_current=df_most_played.sort_values(\"Current\",ascending=False)\n",
    "df_most_played_most_all_time_peak_Peak_current_10=df_most_played_most_all_time_peak_Peak_current[[\"Name\",\"Current\"]].head(10)\n",
    "df_most_played_most_all_time_peak_Peak_current_10"
   ]
  },
  {
   "cell_type": "code",
   "execution_count": 15,
   "id": "e39bb0df",
   "metadata": {},
   "outputs": [
    {
     "data": {
      "image/png": "[encoded data removed]",
      "text/plain": [
       "<Figure size 450x500 with 1 Axes>"
      ]
     },
     "metadata": {},
     "output_type": "display_data"
    }
   ],
   "source": [
    "fig,ax =plt.subplots(figsize=(4.5,5),dpi=100)\n",
    "ax.text(x=-700000,y=-2,s='Top 10 of Most Played Games on Steam in the moment',weight='bold',size=15,color=\"#040045\")\n",
    "sns.barplot(x = 'Current', y = 'Name', data = df_most_played_most_all_time_peak_Peak_current_10, palette='Spectral_r')\n",
    "for location in [\"left\",\"right\",\"bottom\",\"top\"]:\n",
    "    ax.spines[location].set_visible(False)\n",
    "ax.set(xlabel=None,ylabel=None)\n",
    "ax.xaxis.tick_top()\n",
    "ax.set_xticks([0,400000,800000])\n",
    "ax.tick_params(top=False,left=False)\n",
    "ax.tick_params(axis='x',colors='grey')\n",
    "ax.set_yticks([])\n",
    "names_models=df_most_played_most_all_time_peak_Peak_current_10[\"Name\"]\n",
    "for i,models in zip(range(16),names_models):\n",
    "    ax.text(x=-650000,y=i+0.12,s=models,fontweight=\"bold\",color=\"#005566\",alpha=1)\n",
    "ax.axvline(x=400000,ymin=0,ymax=1,c='grey',alpha=0.5)\n",
    "ax.set_facecolor('#FFFFFF')\n",
    "fig.patch.set_facecolor('w')\n",
    "plt.show()"
   ]
  }
 ],
 "metadata": {
  "kernelspec": {
   "display_name": "Python 3 (ipykernel)",
   "language": "python",
   "name": "python3"
  },
  "language_info": {
   "codemirror_mode": {
    "name": "ipython",
    "version": 3
   },
   "file_extension": ".py",
   "mimetype": "text/x-python",
   "name": "python",
   "nbconvert_exporter": "python",
   "pygments_lexer": "ipython3",
   "version": "3.9.7"
  }
 },
 "nbformat": 4,
 "nbformat_minor": 5
}

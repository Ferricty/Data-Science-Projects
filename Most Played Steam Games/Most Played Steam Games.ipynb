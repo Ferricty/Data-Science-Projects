{
 "cells": [
  {
   "cell_type": "markdown",
   "id": "221b1899",
   "metadata": {},
   "source": [
    "# Most Played Steam Games"
   ]
  },
  {
   "cell_type": "markdown",
   "id": "cce13303",
   "metadata": {},
   "source": [
    "In this project we go to examinate the most played games on **Steam**. Saving the information into a csv file and illustrating this proccess step by step."
   ]
  },
  {
   "cell_type": "markdown",
   "id": "1c079984",
   "metadata": {},
   "source": [
    "## 1- Getting the data from 'https://steamdb.info/graph/' "
   ]
  },
  {
   "cell_type": "code",
   "execution_count": null,
   "id": "137dc844",
   "metadata": {},
   "outputs": [],
   "source": [
    "from bs4 import BeautifulSoup\n",
    "import requests\n",
    "from urllib.request import Request, urlopen\n",
    "\n",
    "req = Request(\n",
    "    url='https://steamdb.info/graph/', \n",
    "    headers={'User-Agent': 'XYZ/3.0'}\n",
    ")\n",
    "webpage = urlopen(req, timeout=10).read()\n",
    "\n",
    "soup1=BeautifulSoup(webpage,'html.parser')\n",
    "\n",
    "\n",
    "class_ext=soup1.select('.app')\n",
    "l=[]\n",
    "for idx,item in enumerate(class_ext):\n",
    "\n",
    "    Fabricante = class_ext[idx].getText().split()\n",
    "    l.append(Fabricante)\n",
    "\n",
    "information=l[1:]\n",
    "# There is a lot of information so i will print the first 10 elements\n",
    "print(information[:10])"
   ]
  },
  {
   "cell_type": "code",
   "execution_count": null,
   "id": "2dea6655",
   "metadata": {},
   "outputs": [],
   "source": [
    "new_information_most_played=[]\n",
    "for i in range(len(information)):\n",
    "    information_most_played_name=\" \".join(information[i][:-4])\n",
    "    information_most_played_last=information[i][-4:]\n",
    "    information_most_played_last.insert(0,information_most_played_name)\n",
    "    new_information_most_played.append(information_most_played_last)\n",
    "# There is a lot of information so i will print the first 10 elements\n",
    "new_information_most_played[:10]"
   ]
  },
  {
   "cell_type": "markdown",
   "id": "1376fc32",
   "metadata": {},
   "source": [
    "## 2- Let's make a DataFrame."
   ]
  },
  {
   "cell_type": "code",
   "execution_count": null,
   "id": "c07a9761",
   "metadata": {},
   "outputs": [],
   "source": [
    "import pandas as pd\n",
    "df_most_played=pd.DataFrame(new_information_most_played,columns=[\"Name\",\"Current\",\"Peak_24h\",\"All time Peak\",\"Plus\"])\n",
    "df_most_played"
   ]
  },
  {
   "cell_type": "markdown",
   "id": "23f6940f",
   "metadata": {},
   "source": [
    "## 3- Drop \"Plus\" column"
   ]
  },
  {
   "cell_type": "code",
   "execution_count": null,
   "id": "c8b8eacc",
   "metadata": {},
   "outputs": [],
   "source": [
    "df_most_played.drop(\"Plus\",axis=1,inplace=True)\n",
    "df_most_played"
   ]
  },
  {
   "cell_type": "markdown",
   "id": "0b1ba383",
   "metadata": {},
   "source": [
    "## 4-  Analizing the information"
   ]
  },
  {
   "cell_type": "markdown",
   "id": "3300538f",
   "metadata": {},
   "source": [
    "### Checking the type of each column"
   ]
  },
  {
   "cell_type": "code",
   "execution_count": null,
   "id": "cf4b5c5b",
   "metadata": {},
   "outputs": [],
   "source": [
    "df_most_played.info()"
   ]
  },
  {
   "cell_type": "markdown",
   "id": "469cd08f",
   "metadata": {},
   "source": [
    "Let's remove \",\" character from Players Now and Peak Today columns to convert them values as numeric"
   ]
  },
  {
   "cell_type": "code",
   "execution_count": null,
   "id": "521095e6",
   "metadata": {},
   "outputs": [],
   "source": [
    "df_most_played[\"Current\"]=df_most_played[\"Current\"].str.replace(\",\",\"\")\n",
    "df_most_played[\"Peak_24h\"]=df_most_played[\"Peak_24h\"].str.replace(\",\",\"\")\n",
    "df_most_played[\"All time Peak\"]=df_most_played[\"All time Peak\"].str.replace(\",\",\"\")"
   ]
  },
  {
   "cell_type": "markdown",
   "id": "e820478e",
   "metadata": {},
   "source": [
    "### Transforming the type of \"Current\", \"Peak_24h\" and \"All time Peak\" columns to integer"
   ]
  },
  {
   "cell_type": "code",
   "execution_count": null,
   "id": "2acdec5e",
   "metadata": {},
   "outputs": [],
   "source": [
    "df_most_played[\"Current\"]=df_most_played[\"Current\"].astype(int)\n",
    "df_most_played[\"Peak_24h\"]=df_most_played[\"Peak_24h\"].astype(int)\n",
    "df_most_played[\"All time Peak\"]=df_most_played[\"All time Peak\"].astype(int)\n",
    "df_most_played.info()"
   ]
  },
  {
   "cell_type": "code",
   "execution_count": null,
   "id": "272f3d6a",
   "metadata": {},
   "outputs": [],
   "source": [
    "df_most_played.describe()"
   ]
  },
  {
   "cell_type": "markdown",
   "id": "60d58365",
   "metadata": {},
   "source": [
    "## 5- Saving the dataframe into a csv file"
   ]
  },
  {
   "cell_type": "code",
   "execution_count": null,
   "id": "b74dae4a",
   "metadata": {},
   "outputs": [],
   "source": [
    "df_most_played.to_csv(\"MOST_PLAYED_GAMES_IN_STEAM.csv\",index=None)"
   ]
  },
  {
   "cell_type": "code",
   "execution_count": null,
   "id": "bdf363d1",
   "metadata": {},
   "outputs": [],
   "source": [
    "df_most_played_most_all_time_peak=df_most_played.sort_values(\"All time Peak\",ascending=False)\n",
    "df_most_played_most_all_time_peak_10=df_most_played_most_all_time_peak[[\"Name\",\"All time Peak\"]].head(10)\n",
    "df_most_played_most_all_time_peak_10"
   ]
  },
  {
   "cell_type": "markdown",
   "id": "02a70a0a",
   "metadata": {},
   "source": [
    "## Let's build some charts to illustrate the data"
   ]
  },
  {
   "cell_type": "code",
   "execution_count": null,
   "id": "f1631066",
   "metadata": {},
   "outputs": [],
   "source": [
    "import matplotlib.pyplot as plt\n",
    "import seaborn as sns\n",
    "\n",
    "fig,ax =plt.subplots(figsize=(4.5,5),dpi=100)\n",
    "ax.text(x=-1500000,y=-2,s='Top 10 of Most Played Games on Steam',weight='bold',size=15,color=\"#040045\")\n",
    "sns.barplot(x = 'All time Peak', y = 'Name', data = df_most_played_most_all_time_peak_10, palette='Spectral_r')\n",
    "for location in [\"left\",\"right\",\"bottom\",\"top\"]:\n",
    "    ax.spines[location].set_visible(False)\n",
    "ax.set(xlabel=None,ylabel=None)\n",
    "ax.xaxis.tick_top()\n",
    "ax.tick_params(top=False,left=False)\n",
    "ax.tick_params(axis='x',colors='grey')\n",
    "ax.set_yticks([])\n",
    "names_models=df_most_played_most_all_time_peak_10[\"Name\"]\n",
    "for i,models in zip(range(16),names_models):\n",
    "    ax.text(x=-2600000,y=i+0.12,s=models,fontweight=\"bold\",color=\"#005566\",alpha=1)\n",
    "ax.axvline(x=1000000,ymin=0,ymax=1,c='grey',alpha=0.5)\n",
    "ax.set_facecolor('#FFFFFF')\n",
    "fig.patch.set_facecolor('w')\n",
    "plt.show()"
   ]
  },
  {
   "cell_type": "code",
   "execution_count": null,
   "id": "f8ab713f",
   "metadata": {},
   "outputs": [],
   "source": [
    "df_most_played_most_all_time_peak_Peak_24h=df_most_played.sort_values(\"Peak_24h\",ascending=False)\n",
    "df_most_played_most_all_time_peak_Peak_24h_10=df_most_played_most_all_time_peak_Peak_24h[[\"Name\",\"Peak_24h\"]].head(10)\n",
    "df_most_played_most_all_time_peak_Peak_24h_10"
   ]
  },
  {
   "cell_type": "code",
   "execution_count": null,
   "id": "efd47d67",
   "metadata": {},
   "outputs": [],
   "source": [
    "fig,ax =plt.subplots(figsize=(4.5,5),dpi=100)\n",
    "ax.text(x=-700000,y=-2,s='Top 10 of Most Played Games on Steam in the last 24h',weight='bold',size=15,color=\"#040045\")\n",
    "sns.barplot(x = 'Peak_24h', y = 'Name', data = df_most_played_most_all_time_peak_Peak_24h_10, palette='Spectral_r')\n",
    "for location in [\"left\",\"right\",\"bottom\",\"top\"]:\n",
    "    ax.spines[location].set_visible(False)\n",
    "ax.set(xlabel=None,ylabel=None)\n",
    "ax.xaxis.tick_top()\n",
    "ax.set_xticks([0,400000,800000])\n",
    "ax.tick_params(top=False,left=False)\n",
    "ax.tick_params(axis='x',colors='grey')\n",
    "ax.set_yticks([])\n",
    "names_models=df_most_played_most_all_time_peak_Peak_24h_10[\"Name\"]\n",
    "for i,models in zip(range(16),names_models):\n",
    "    ax.text(x=-800000,y=i+0.12,s=models,fontweight=\"bold\",color=\"#005566\",alpha=1)\n",
    "ax.axvline(x=400000,ymin=0,ymax=1,c='grey',alpha=0.5)\n",
    "ax.set_facecolor('#FFFFFF')\n",
    "fig.patch.set_facecolor('w')\n",
    "plt.show()"
   ]
  },
  {
   "cell_type": "code",
   "execution_count": null,
   "id": "6e52d79b",
   "metadata": {},
   "outputs": [],
   "source": [
    "df_most_played_most_all_time_peak_Peak_current=df_most_played.sort_values(\"Current\",ascending=False)\n",
    "df_most_played_most_all_time_peak_Peak_current_10=df_most_played_most_all_time_peak_Peak_current[[\"Name\",\"Current\"]].head(10)\n",
    "df_most_played_most_all_time_peak_Peak_current_10"
   ]
  },
  {
   "cell_type": "code",
   "execution_count": null,
   "id": "0bb602af",
   "metadata": {},
   "outputs": [],
   "source": [
    "fig,ax =plt.subplots(figsize=(4.5,5),dpi=100)\n",
    "ax.text(x=-700000,y=-2,s='Top 10 of Most Played Games on Steam in the moment',weight='bold',size=15,color=\"#040045\")\n",
    "sns.barplot(x = 'Current', y = 'Name', data = df_most_played_most_all_time_peak_Peak_current_10, palette='Spectral_r')\n",
    "for location in [\"left\",\"right\",\"bottom\",\"top\"]:\n",
    "    ax.spines[location].set_visible(False)\n",
    "ax.set(xlabel=None,ylabel=None)\n",
    "ax.xaxis.tick_top()\n",
    "ax.set_xticks([0,400000,800000])\n",
    "ax.tick_params(top=False,left=False)\n",
    "ax.tick_params(axis='x',colors='grey')\n",
    "ax.set_yticks([])\n",
    "names_models=df_most_played_most_all_time_peak_Peak_current_10[\"Name\"]\n",
    "for i,models in zip(range(16),names_models):\n",
    "    ax.text(x=-650000,y=i+0.12,s=models,fontweight=\"bold\",color=\"#005566\",alpha=1)\n",
    "ax.axvline(x=400000,ymin=0,ymax=1,c='grey',alpha=0.5)\n",
    "ax.set_facecolor('#FFFFFF')\n",
    "fig.patch.set_facecolor('w')\n",
    "plt.show()"
   ]
  }
 ],
 "metadata": {
  "kernelspec": {
   "display_name": "Python 3 (ipykernel)",
   "language": "python",
   "name": "python3"
  },
  "language_info": {
   "codemirror_mode": {
    "name": "ipython",
    "version": 3
   },
   "file_extension": ".py",
   "mimetype": "text/x-python",
   "name": "python",
   "nbconvert_exporter": "python",
   "pygments_lexer": "ipython3",
   "version": "3.9.7"
  }
 },
 "nbformat": 4,
 "nbformat_minor": 5
}

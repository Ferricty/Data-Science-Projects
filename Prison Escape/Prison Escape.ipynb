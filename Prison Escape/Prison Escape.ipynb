{
 "cells": [
  {
   "cell_type": "markdown",
   "id": "f62e4e7f",
   "metadata": {},
   "source": [
    "# Helicopter Prison Escapes"
   ]
  },
  {
   "cell_type": "markdown",
   "id": "eafbc208",
   "metadata": {},
   "source": [
    "![](prison_escape.jpg)"
   ]
  },
  {
   "cell_type": "markdown",
   "id": "4c62f7d6",
   "metadata": {},
   "source": [
    "## Acquire the data"
   ]
  },
  {
   "cell_type": "markdown",
   "id": "a92d4450",
   "metadata": {},
   "source": [
    "In this project we'll be working with the table provided in https://en.wikipedia.org/wiki/List_of_helicopter_prison_escapes that present a list of helicopter prison escapes across the world."
   ]
  },
  {
   "cell_type": "code",
   "execution_count": 1,
   "id": "664d512d",
   "metadata": {},
   "outputs": [],
   "source": [
    "import pandas as pd\n",
    "\n",
    "url = \"https://en.wikipedia.org/wiki/List_of_helicopter_prison_escapes\"\n",
    "\n",
    "df = pd.read_html(url)"
   ]
  },
  {
   "cell_type": "code",
   "execution_count": 2,
   "id": "cc45cb78",
   "metadata": {},
   "outputs": [],
   "source": [
    "df_copy = df[1:].copy()"
   ]
  },
  {
   "cell_type": "code",
   "execution_count": 3,
   "id": "790f347c",
   "metadata": {},
   "outputs": [
    {
     "data": {
      "text/plain": [
       "list"
      ]
     },
     "execution_count": 3,
     "metadata": {},
     "output_type": "execute_result"
    }
   ],
   "source": [
    "type(df_copy)"
   ]
  },
  {
   "cell_type": "code",
   "execution_count": 4,
   "id": "3577a027",
   "metadata": {},
   "outputs": [
    {
     "data": {
      "text/plain": [
       "7"
      ]
     },
     "execution_count": 4,
     "metadata": {},
     "output_type": "execute_result"
    }
   ],
   "source": [
    "len(df_copy)"
   ]
  },
  {
   "cell_type": "code",
   "execution_count": 5,
   "id": "83842fa7",
   "metadata": {},
   "outputs": [
    {
     "data": {
      "text/html": [
       "<div>\n",
       "<style scoped>\n",
       "    .dataframe tbody tr th:only-of-type {\n",
       "        vertical-align: middle;\n",
       "    }\n",
       "\n",
       "    .dataframe tbody tr th {\n",
       "        vertical-align: top;\n",
       "    }\n",
       "\n",
       "    .dataframe thead th {\n",
       "        text-align: right;\n",
       "    }\n",
       "</style>\n",
       "<table border=\"1\" class=\"dataframe\">\n",
       "  <thead>\n",
       "    <tr style=\"text-align: right;\">\n",
       "      <th></th>\n",
       "      <th>Date</th>\n",
       "      <th>Prison name</th>\n",
       "      <th>Country</th>\n",
       "      <th>Succeeded</th>\n",
       "      <th>Escapee(s)</th>\n",
       "      <th>Details</th>\n",
       "    </tr>\n",
       "  </thead>\n",
       "  <tbody>\n",
       "    <tr>\n",
       "      <th>0</th>\n",
       "      <td>August 19, 1971</td>\n",
       "      <td>Santa Martha Acatitla</td>\n",
       "      <td>Mexico</td>\n",
       "      <td>Yes</td>\n",
       "      <td>Joel David Kaplan Carlos Antonio Contreras Castro</td>\n",
       "      <td>Joel David Kaplan was a New York businessman w...</td>\n",
       "    </tr>\n",
       "    <tr>\n",
       "      <th>1</th>\n",
       "      <td>October 31, 1973</td>\n",
       "      <td>Mountjoy Jail</td>\n",
       "      <td>Ireland</td>\n",
       "      <td>Yes</td>\n",
       "      <td>JB O'Hagan Seamus TwomeyKevin Mallon</td>\n",
       "      <td>On October 31, 1973 an IRA member hijacked a h...</td>\n",
       "    </tr>\n",
       "    <tr>\n",
       "      <th>2</th>\n",
       "      <td>May 24, 1978</td>\n",
       "      <td>United States Penitentiary, Marion</td>\n",
       "      <td>United States</td>\n",
       "      <td>No</td>\n",
       "      <td>Garrett Brock TrapnellMartin Joseph McNallyJam...</td>\n",
       "      <td>43-year-old Barbara Ann Oswald hijacked a Sain...</td>\n",
       "    </tr>\n",
       "    <tr>\n",
       "      <th>3</th>\n",
       "      <td>February 27, 1981</td>\n",
       "      <td>Fleury-Mérogis, Essonne, Ile de France</td>\n",
       "      <td>France</td>\n",
       "      <td>Yes</td>\n",
       "      <td>Gérard DupréDaniel Beaumont</td>\n",
       "      <td>With the help of Serge Coutel, Gérard Dupré an...</td>\n",
       "    </tr>\n",
       "    <tr>\n",
       "      <th>4</th>\n",
       "      <td>May 7, 1981</td>\n",
       "      <td>Orsainville Prison, Quebec City</td>\n",
       "      <td>Canada</td>\n",
       "      <td>No</td>\n",
       "      <td>Marina Paquet (hijacker)Giles Arseneault (pris...</td>\n",
       "      <td>Marina Paquet held a sawed off shotgun against...</td>\n",
       "    </tr>\n",
       "  </tbody>\n",
       "</table>\n",
       "</div>"
      ],
      "text/plain": [
       "                Date                             Prison name        Country  \\\n",
       "0    August 19, 1971                   Santa Martha Acatitla         Mexico   \n",
       "1   October 31, 1973                           Mountjoy Jail        Ireland   \n",
       "2       May 24, 1978      United States Penitentiary, Marion  United States   \n",
       "3  February 27, 1981  Fleury-Mérogis, Essonne, Ile de France         France   \n",
       "4        May 7, 1981         Orsainville Prison, Quebec City         Canada   \n",
       "\n",
       "  Succeeded                                         Escapee(s)  \\\n",
       "0       Yes  Joel David Kaplan Carlos Antonio Contreras Castro   \n",
       "1       Yes               JB O'Hagan Seamus TwomeyKevin Mallon   \n",
       "2        No  Garrett Brock TrapnellMartin Joseph McNallyJam...   \n",
       "3       Yes                        Gérard DupréDaniel Beaumont   \n",
       "4        No  Marina Paquet (hijacker)Giles Arseneault (pris...   \n",
       "\n",
       "                                             Details  \n",
       "0  Joel David Kaplan was a New York businessman w...  \n",
       "1  On October 31, 1973 an IRA member hijacked a h...  \n",
       "2  43-year-old Barbara Ann Oswald hijacked a Sain...  \n",
       "3  With the help of Serge Coutel, Gérard Dupré an...  \n",
       "4  Marina Paquet held a sawed off shotgun against...  "
      ]
     },
     "execution_count": 5,
     "metadata": {},
     "output_type": "execute_result"
    }
   ],
   "source": [
    "df_copy[0].head()"
   ]
  },
  {
   "cell_type": "code",
   "execution_count": 6,
   "id": "2dac9ab9",
   "metadata": {},
   "outputs": [],
   "source": [
    "prison_scape_data = df_copy[0]"
   ]
  },
  {
   "cell_type": "code",
   "execution_count": 7,
   "id": "2eb63285",
   "metadata": {},
   "outputs": [
    {
     "name": "stdout",
     "output_type": "stream",
     "text": [
      "<class 'pandas.core.frame.DataFrame'>\n",
      "RangeIndex: 48 entries, 0 to 47\n",
      "Data columns (total 6 columns):\n",
      " #   Column       Non-Null Count  Dtype \n",
      "---  ------       --------------  ----- \n",
      " 0   Date         48 non-null     object\n",
      " 1   Prison name  48 non-null     object\n",
      " 2   Country      48 non-null     object\n",
      " 3   Succeeded    48 non-null     object\n",
      " 4   Escapee(s)   48 non-null     object\n",
      " 5   Details      48 non-null     object\n",
      "dtypes: object(6)\n",
      "memory usage: 2.4+ KB\n"
     ]
    }
   ],
   "source": [
    "prison_scape_data.info()"
   ]
  },
  {
   "cell_type": "code",
   "execution_count": 8,
   "id": "1c9915d0",
   "metadata": {},
   "outputs": [
    {
     "data": {
      "text/plain": [
       "(48, 6)"
      ]
     },
     "execution_count": 8,
     "metadata": {},
     "output_type": "execute_result"
    }
   ],
   "source": [
    "prison_scape_data.shape"
   ]
  },
  {
   "cell_type": "markdown",
   "id": "ff2c47ed",
   "metadata": {},
   "source": [
    "In the data colected we have 48 helicopter prison scapes attempt."
   ]
  },
  {
   "cell_type": "code",
   "execution_count": 9,
   "id": "36831554",
   "metadata": {},
   "outputs": [],
   "source": [
    "prison_scape_data[\"Date\"] = (prison_scape_data[\"Date\"].str[-4:]).astype(int)"
   ]
  },
  {
   "cell_type": "markdown",
   "id": "38307fb6",
   "metadata": {},
   "source": [
    "## Let's find the number of different countries recorded in the dataframe "
   ]
  },
  {
   "cell_type": "code",
   "execution_count": 10,
   "id": "931c1793",
   "metadata": {
    "scrolled": true
   },
   "outputs": [
    {
     "name": "stdout",
     "output_type": "stream",
     "text": [
      "There are 15 different countries in the data colected\n"
     ]
    }
   ],
   "source": [
    "number_of_countries = prison_scape_data.Country.nunique()\n",
    "print(f\"There are {number_of_countries} different countries in the data colected\")"
   ]
  },
  {
   "cell_type": "code",
   "execution_count": 11,
   "id": "0acca9cd",
   "metadata": {},
   "outputs": [
    {
     "data": {
      "text/plain": [
       "France           11\n",
       "United States     6\n",
       "Canada            3\n",
       "Name: Country, dtype: int64"
      ]
     },
     "execution_count": 11,
     "metadata": {},
     "output_type": "execute_result"
    }
   ],
   "source": [
    "succesfull_scapes = prison_scape_data[prison_scape_data['Succeeded']==\"Yes\"].Country.value_counts()\n",
    "succesfull_scapes[:3]"
   ]
  },
  {
   "cell_type": "markdown",
   "id": "4cd59362",
   "metadata": {},
   "source": [
    "The country with most succesfull helicopter scapes is **France** with 11."
   ]
  },
  {
   "cell_type": "code",
   "execution_count": 12,
   "id": "2485c9f2",
   "metadata": {},
   "outputs": [
    {
     "data": {
      "text/plain": [
       "France           15\n",
       "United States     8\n",
       "Canada            4\n",
       "Name: Country, dtype: int64"
      ]
     },
     "execution_count": 12,
     "metadata": {},
     "output_type": "execute_result"
    }
   ],
   "source": [
    "intents = prison_scape_data.Country.value_counts()\n",
    "intents[:3]"
   ]
  },
  {
   "cell_type": "markdown",
   "id": "d013739e",
   "metadata": {},
   "source": [
    "The country with most attempts of helicopter scapes is **France** with 15."
   ]
  },
  {
   "cell_type": "code",
   "execution_count": 13,
   "id": "bf30dadb",
   "metadata": {},
   "outputs": [
    {
     "data": {
      "text/plain": [
       "1986    3\n",
       "2009    3\n",
       "2001    2\n",
       "Name: Date, dtype: int64"
      ]
     },
     "execution_count": 13,
     "metadata": {},
     "output_type": "execute_result"
    }
   ],
   "source": [
    "prison_scape_data[\"Date\"][prison_scape_data[\"Succeeded\"]==\"Yes\"].value_counts()[:3]"
   ]
  },
  {
   "cell_type": "markdown",
   "id": "7e80ebba",
   "metadata": {},
   "source": [
    "The years with the bigger number of success was **1986**, **2009** and **2001** with 2 success in the 2001 and 3 in the other years."
   ]
  },
  {
   "cell_type": "code",
   "execution_count": 14,
   "id": "09a36f5f",
   "metadata": {},
   "outputs": [],
   "source": [
    "import matplotlib.pyplot as plt\n",
    "\n",
    "failed_scapes = prison_scape_data[prison_scape_data['Succeeded']==\"No\"].Country.value_counts()"
   ]
  },
  {
   "cell_type": "code",
   "execution_count": 15,
   "id": "5bc89e32",
   "metadata": {
    "scrolled": true
   },
   "outputs": [
    {
     "data": {
      "text/plain": [
       "France            4\n",
       "United States     2\n",
       "Belgium           2\n",
       "Greece            2\n",
       "Canada            1\n",
       "Australia         1\n",
       "Netherlands       1\n",
       "United Kingdom    1\n",
       "Name: Country, dtype: int64"
      ]
     },
     "execution_count": 15,
     "metadata": {},
     "output_type": "execute_result"
    }
   ],
   "source": [
    "failed_scapes"
   ]
  },
  {
   "cell_type": "code",
   "execution_count": 16,
   "id": "12a93bb3",
   "metadata": {},
   "outputs": [],
   "source": [
    "del prison_scape_data[\"Details\"]"
   ]
  },
  {
   "cell_type": "code",
   "execution_count": 17,
   "id": "a4bd7ede",
   "metadata": {},
   "outputs": [
    {
     "data": {
      "text/html": [
       "<div>\n",
       "<style scoped>\n",
       "    .dataframe tbody tr th:only-of-type {\n",
       "        vertical-align: middle;\n",
       "    }\n",
       "\n",
       "    .dataframe tbody tr th {\n",
       "        vertical-align: top;\n",
       "    }\n",
       "\n",
       "    .dataframe thead th {\n",
       "        text-align: right;\n",
       "    }\n",
       "</style>\n",
       "<table border=\"1\" class=\"dataframe\">\n",
       "  <thead>\n",
       "    <tr style=\"text-align: right;\">\n",
       "      <th></th>\n",
       "      <th>Date</th>\n",
       "      <th>Prison name</th>\n",
       "      <th>Country</th>\n",
       "      <th>Succeeded</th>\n",
       "      <th>Escapee(s)</th>\n",
       "    </tr>\n",
       "  </thead>\n",
       "  <tbody>\n",
       "    <tr>\n",
       "      <th>0</th>\n",
       "      <td>1971</td>\n",
       "      <td>Santa Martha Acatitla</td>\n",
       "      <td>Mexico</td>\n",
       "      <td>Yes</td>\n",
       "      <td>Joel David Kaplan Carlos Antonio Contreras Castro</td>\n",
       "    </tr>\n",
       "    <tr>\n",
       "      <th>1</th>\n",
       "      <td>1973</td>\n",
       "      <td>Mountjoy Jail</td>\n",
       "      <td>Ireland</td>\n",
       "      <td>Yes</td>\n",
       "      <td>JB O'Hagan Seamus TwomeyKevin Mallon</td>\n",
       "    </tr>\n",
       "    <tr>\n",
       "      <th>2</th>\n",
       "      <td>1978</td>\n",
       "      <td>United States Penitentiary, Marion</td>\n",
       "      <td>United States</td>\n",
       "      <td>No</td>\n",
       "      <td>Garrett Brock TrapnellMartin Joseph McNallyJam...</td>\n",
       "    </tr>\n",
       "    <tr>\n",
       "      <th>3</th>\n",
       "      <td>1981</td>\n",
       "      <td>Fleury-Mérogis, Essonne, Ile de France</td>\n",
       "      <td>France</td>\n",
       "      <td>Yes</td>\n",
       "      <td>Gérard DupréDaniel Beaumont</td>\n",
       "    </tr>\n",
       "    <tr>\n",
       "      <th>4</th>\n",
       "      <td>1981</td>\n",
       "      <td>Orsainville Prison, Quebec City</td>\n",
       "      <td>Canada</td>\n",
       "      <td>No</td>\n",
       "      <td>Marina Paquet (hijacker)Giles Arseneault (pris...</td>\n",
       "    </tr>\n",
       "  </tbody>\n",
       "</table>\n",
       "</div>"
      ],
      "text/plain": [
       "   Date                             Prison name        Country Succeeded  \\\n",
       "0  1971                   Santa Martha Acatitla         Mexico       Yes   \n",
       "1  1973                           Mountjoy Jail        Ireland       Yes   \n",
       "2  1978      United States Penitentiary, Marion  United States        No   \n",
       "3  1981  Fleury-Mérogis, Essonne, Ile de France         France       Yes   \n",
       "4  1981         Orsainville Prison, Quebec City         Canada        No   \n",
       "\n",
       "                                          Escapee(s)  \n",
       "0  Joel David Kaplan Carlos Antonio Contreras Castro  \n",
       "1               JB O'Hagan Seamus TwomeyKevin Mallon  \n",
       "2  Garrett Brock TrapnellMartin Joseph McNallyJam...  \n",
       "3                        Gérard DupréDaniel Beaumont  \n",
       "4  Marina Paquet (hijacker)Giles Arseneault (pris...  "
      ]
     },
     "execution_count": 17,
     "metadata": {},
     "output_type": "execute_result"
    }
   ],
   "source": [
    "prison_scape_data.head()"
   ]
  },
  {
   "cell_type": "code",
   "execution_count": 18,
   "id": "500e46df",
   "metadata": {},
   "outputs": [],
   "source": [
    "relation_succeed_fail = {country : [len(prison_scape_data[(prison_scape_data[\"Country\"]==country)&\n",
    "                                                          (prison_scape_data[\"Succeeded\"]==\"Yes\")]),\n",
    "                                    len(prison_scape_data[(prison_scape_data[\"Country\"]==country)&\n",
    "                                                          (prison_scape_data[\"Succeeded\"]==\"No\")])]\n",
    "                         for country in prison_scape_data.Country.unique()}"
   ]
  },
  {
   "cell_type": "code",
   "execution_count": 19,
   "id": "77c959c0",
   "metadata": {},
   "outputs": [
    {
     "data": {
      "text/plain": [
       "{'Mexico': [1, 0],\n",
       " 'Ireland': [1, 0],\n",
       " 'United States': [6, 2],\n",
       " 'France': [11, 4],\n",
       " 'Canada': [3, 1],\n",
       " 'Australia': [1, 1],\n",
       " 'Brazil': [2, 0],\n",
       " 'Italy': [1, 0],\n",
       " 'United Kingdom': [1, 1],\n",
       " 'Puerto Rico': [1, 0],\n",
       " 'Chile': [1, 0],\n",
       " 'Netherlands': [0, 1],\n",
       " 'Greece': [2, 2],\n",
       " 'Belgium': [2, 2],\n",
       " 'Russia': [1, 0]}"
      ]
     },
     "execution_count": 19,
     "metadata": {},
     "output_type": "execute_result"
    }
   ],
   "source": [
    "relation_succeed_fail"
   ]
  },
  {
   "cell_type": "markdown",
   "id": "e90e1d32",
   "metadata": {},
   "source": [
    "## Let's build a bar plot to represent the data  "
   ]
  },
  {
   "cell_type": "code",
   "execution_count": 20,
   "id": "3e1090ea",
   "metadata": {},
   "outputs": [
    {
     "data": {
      "image/png": "[encoded data removed]",
      "text/plain": [
       "<Figure size 1008x576 with 1 Axes>"
      ]
     },
     "metadata": {
      "needs_background": "dark"
     },
     "output_type": "display_data"
    }
   ],
   "source": [
    "countries = [x for x in relation_succeed_fail.keys()]\n",
    "success = [x[0] for x in relation_succeed_fail.values()]\n",
    "fail = [x[1] for x in relation_succeed_fail.values()]\n",
    "new_all_l = { \"Country\":countries,\n",
    "             \"Success\":success,\n",
    "             \"Fail\":fail }\n",
    "\n",
    "\n",
    "\n",
    "colors = [\"#22ee66\",\"#ee5599\"]\n",
    "new_all_df = pd.DataFrame(new_all_l, index=new_all_l[\"Country\"])\n",
    "\n",
    "ax = new_all_df.plot(kind='barh',figsize=(14,8),color = colors,width = 0.6,rot=0);\n",
    "for location in [\"left\",\"right\",\"bottom\",\"top\"]:\n",
    "    ax.spines[location].set_visible(False)\n",
    "ax.tick_params(left=False,bottom=False)\n",
    "ax.tick_params(axis='x',colors='grey',labelsize = 12)\n",
    "ax.text(x=1,y=-2.5,s='Success and Failed Attempts of Helicopter Escapes',weight='bold',size=17,color=\"#6655dd\");\n",
    "ax.set_yticks([])\n",
    "for i,models in zip(range(16),new_all_df[\"Country\"]):\n",
    "    ax.text(x=-1.7,y=i-0.15,s=models,fontweight=\"bold\",color=\"#005566\",alpha=1)\n",
    "ax.set_xticks([2,4,6,8,10]);\n",
    "plt.legend(title=\"Legend\",loc=(0.5,0.8),labelspacing=0.5,framealpha=0.85,fontsize=12,title_fontsize=15,shadow=True,edgecolor=\"green\")\n",
    "plt.rcParams.update({\n",
    "    \"figure.facecolor\": \"w\",\n",
    "    \"axes.facecolor\": \"w\",\n",
    "    \"savefig.facecolor\": \"w\",\n",
    "    \"patch.facecolor\":\"w\",\n",
    "})\n",
    "#plt.show()"
   ]
  },
  {
   "cell_type": "markdown",
   "id": "21ece6b7",
   "metadata": {},
   "source": [
    "There is too much information in the previus graph. Let's fix that"
   ]
  },
  {
   "cell_type": "code",
   "execution_count": 21,
   "id": "23d90c22",
   "metadata": {},
   "outputs": [],
   "source": [
    "other_country = prison_scape_data[~prison_scape_data[\"Country\"].isin(['United States',\"France\",\"Canada\"])]"
   ]
  },
  {
   "cell_type": "code",
   "execution_count": 22,
   "id": "4fde2565",
   "metadata": {},
   "outputs": [
    {
     "data": {
      "text/plain": [
       "Yes    14\n",
       "No      7\n",
       "Name: Succeeded, dtype: int64"
      ]
     },
     "execution_count": 22,
     "metadata": {},
     "output_type": "execute_result"
    }
   ],
   "source": [
    "other_country[\"Succeeded\"].value_counts()"
   ]
  },
  {
   "cell_type": "code",
   "execution_count": 23,
   "id": "d629f6a0",
   "metadata": {},
   "outputs": [],
   "source": [
    "new_inf = {}\n",
    "for k, v in relation_succeed_fail.items():\n",
    "    if k in ['United States',\"France\",\"Canada\"]: \n",
    "        new_inf[k] = {\"Success\":v[0],\n",
    "                      \"Fail\":v[1]}\n",
    "new_inf[\"Others\"] = {\"Success\":len(other_country[other_country[\"Succeeded\"] == \"Yes\"]),\n",
    "                     \"Fail\":len(other_country[other_country[\"Succeeded\"] == \"No\"])}"
   ]
  },
  {
   "cell_type": "code",
   "execution_count": 24,
   "id": "0b3335b9",
   "metadata": {},
   "outputs": [
    {
     "data": {
      "text/plain": [
       "{'United States': {'Success': 6, 'Fail': 2},\n",
       " 'France': {'Success': 11, 'Fail': 4},\n",
       " 'Canada': {'Success': 3, 'Fail': 1},\n",
       " 'Others': {'Success': 14, 'Fail': 7}}"
      ]
     },
     "execution_count": 24,
     "metadata": {},
     "output_type": "execute_result"
    }
   ],
   "source": [
    "new_inf"
   ]
  },
  {
   "cell_type": "code",
   "execution_count": 25,
   "id": "97678644",
   "metadata": {},
   "outputs": [],
   "source": [
    "new_df = pd.DataFrame(new_inf)"
   ]
  },
  {
   "cell_type": "code",
   "execution_count": 26,
   "id": "ee961a0a",
   "metadata": {},
   "outputs": [
    {
     "data": {
      "text/html": [
       "<div>\n",
       "<style scoped>\n",
       "    .dataframe tbody tr th:only-of-type {\n",
       "        vertical-align: middle;\n",
       "    }\n",
       "\n",
       "    .dataframe tbody tr th {\n",
       "        vertical-align: top;\n",
       "    }\n",
       "\n",
       "    .dataframe thead th {\n",
       "        text-align: right;\n",
       "    }\n",
       "</style>\n",
       "<table border=\"1\" class=\"dataframe\">\n",
       "  <thead>\n",
       "    <tr style=\"text-align: right;\">\n",
       "      <th></th>\n",
       "      <th>United States</th>\n",
       "      <th>France</th>\n",
       "      <th>Canada</th>\n",
       "      <th>Others</th>\n",
       "    </tr>\n",
       "  </thead>\n",
       "  <tbody>\n",
       "    <tr>\n",
       "      <th>Success</th>\n",
       "      <td>6</td>\n",
       "      <td>11</td>\n",
       "      <td>3</td>\n",
       "      <td>14</td>\n",
       "    </tr>\n",
       "    <tr>\n",
       "      <th>Fail</th>\n",
       "      <td>2</td>\n",
       "      <td>4</td>\n",
       "      <td>1</td>\n",
       "      <td>7</td>\n",
       "    </tr>\n",
       "  </tbody>\n",
       "</table>\n",
       "</div>"
      ],
      "text/plain": [
       "         United States  France  Canada  Others\n",
       "Success              6      11       3      14\n",
       "Fail                 2       4       1       7"
      ]
     },
     "execution_count": 26,
     "metadata": {},
     "output_type": "execute_result"
    }
   ],
   "source": [
    "new_df"
   ]
  },
  {
   "cell_type": "code",
   "execution_count": 27,
   "id": "a331b724",
   "metadata": {},
   "outputs": [
    {
     "data": {
      "image/png": "[encoded data removed]",
      "text/plain": [
       "<Figure size 576x576 with 1 Axes>"
      ]
     },
     "metadata": {},
     "output_type": "display_data"
    }
   ],
   "source": [
    "plt.figure(figsize = (8,8))\n",
    "labels = new_df.columns\n",
    "sizes = [new_df[\"United States\"].sum(),new_df[\"France\"].sum(),new_df[\"Canada\"].sum(),new_df[\"Others\"].sum()]\n",
    "colors = [\"blue\",\"green\",\"red\",\"yellow\"]\n",
    "explode = (0,0,0,0)\n",
    "\n",
    "labels_subgroup = [\"Success\",\"Fail\"]*4\n",
    "sizes_subgroup = [new_df[\"United States\"][0],new_df[\"United States\"][1],\n",
    "                 new_df[\"France\"][0],new_df[\"France\"][1],\n",
    "                 new_df[\"Canada\"][0],new_df[\"Canada\"][1],\n",
    "                 new_df[\"Others\"][0],new_df[\"Others\"][1]]\n",
    "colors_sub = [\"#4d63fb\",\"#a6f9fd\",\"#02b02a\",\"#89fe57\",\"#ec1700\",\"#dda045\",\"#d1c701\",\"#fefa45\"]\n",
    "outside = plt.pie(sizes,explode = explode, labels = labels, colors = colors, autopct = '%.2f%%', pctdistance = 0.85,textprops = {\n",
    "                      \"fontsize\" : 14,\n",
    "                     \"fontweight\":\"bold\",\n",
    "                     'fontfamily':\"cursive\",\n",
    "                        \"alpha\":0.78})\n",
    "\n",
    "inside = plt.pie(sizes_subgroup,radius = 0.72, labels = labels_subgroup, \n",
    "                 labeldistance = 0.72, autopct = '%.2f%%', pctdistance = 0.48, colors = colors_sub,textprops = {\n",
    "                     \"fontsize\" : 12,\n",
    "                     \"fontweight\":\"bold\",\n",
    "                     'fontfamily':\"cursive\",\n",
    "                     'rotation' : '15',\n",
    "                        \"alpha\":0.78})\n",
    "\n",
    "plt.title(\"Success and Fails Helicopter Prison Escapes in different countries\",\n",
    "          fontsize = 20,fontstyle=\"oblique\",fontweight=\"bold\",\n",
    "          fontfamily=\"cursive\",color=\"black\",horizontalalignment=\"center\",alpha=0.8)\n",
    "\n",
    "centre_circle =plt.Circle((0,0),0.5,color = \"grey\", fc = \"white\", lw = 1)\n",
    "fig = plt.gcf()\n",
    "fig.gca().add_artist(centre_circle)\n",
    "plt.axis('equal')\n",
    "plt.tight_layout()\n",
    "plt.show()"
   ]
  }
 ],
 "metadata": {
  "kernelspec": {
   "display_name": "Python 3 (ipykernel)",
   "language": "python",
   "name": "python3"
  },
  "language_info": {
   "codemirror_mode": {
    "name": "ipython",
    "version": 3
   },
   "file_extension": ".py",
   "mimetype": "text/x-python",
   "name": "python",
   "nbconvert_exporter": "python",
   "pygments_lexer": "ipython3",
   "version": "3.9.7"
  }
 },
 "nbformat": 4,
 "nbformat_minor": 5
}

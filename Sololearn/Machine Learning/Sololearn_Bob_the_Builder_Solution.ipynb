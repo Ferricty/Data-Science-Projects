{
 "cells": [
  {
   "cell_type": "markdown",
   "id": "630e13e0",
   "metadata": {},
   "source": [
    "# Sololearn: Bob the Builder Solution"
   ]
  },
  {
   "cell_type": "markdown",
   "id": "0d6342dd",
   "metadata": {},
   "source": [
    "Building a Logistic Regression Model"
   ]
  },
  {
   "cell_type": "markdown",
   "id": "b6998ef7",
   "metadata": {},
   "source": [
    "## Task:"
   ]
  },
  {
   "cell_type": "markdown",
   "id": "9dbede54",
   "metadata": {},
   "source": [
    "You are given a feature matrix and a single datapoint to predict. Your job will be to build a Logistic Regression model with the feature matrix and make a prediction (1 or 0) of the single datapoint."
   ]
  },
  {
   "cell_type": "code",
   "execution_count": 1,
   "id": "a052f474",
   "metadata": {},
   "outputs": [],
   "source": [
    "import pandas as pd\n",
    "import numpy as np\n",
    "import matplotlib.pyplot as plt\n",
    "%matplotlib inline\n",
    "from sklearn.linear_model import LogisticRegression"
   ]
  },
  {
   "cell_type": "code",
   "execution_count": 2,
   "id": "d0cac0a0",
   "metadata": {},
   "outputs": [],
   "source": [
    "#Input data\n",
    "number_of_rows = 6\n",
    "X = [1,3,3,5,5,7,3,1,5,3,7,5]\n",
    "target = [1,1,1,0,0,0]"
   ]
  },
  {
   "cell_type": "code",
   "execution_count": 3,
   "id": "3887d7bc",
   "metadata": {},
   "outputs": [
    {
     "data": {
      "text/plain": [
       "{'x_point': [1.0, 3.0, 5.0, 3.0, 5.0, 7.0],\n",
       " 'y_point': [3, 5, 7, 1, 3, 5],\n",
       " 'target': [1, 1, 1, 0, 0, 0]}"
      ]
     },
     "execution_count": 3,
     "metadata": {},
     "output_type": "execute_result"
    }
   ],
   "source": [
    "arr_x = np.array(X)\n",
    "Points_coord = arr_x.reshape(number_of_rows,2)\n",
    "\n",
    "arr_y = np.array(target)\n",
    "\n",
    "x_point = [float(x) for x in X[::2]]\n",
    "y_point = [int(i) for i in X[1::2]]\n",
    "data = {\"x_point\":x_point,\"y_point\":y_point,\"target\":target}\n",
    "data"
   ]
  },
  {
   "cell_type": "code",
   "execution_count": 4,
   "id": "8cb89095",
   "metadata": {},
   "outputs": [
    {
     "data": {
      "text/html": [
       "<div>\n",
       "<style scoped>\n",
       "    .dataframe tbody tr th:only-of-type {\n",
       "        vertical-align: middle;\n",
       "    }\n",
       "\n",
       "    .dataframe tbody tr th {\n",
       "        vertical-align: top;\n",
       "    }\n",
       "\n",
       "    .dataframe thead th {\n",
       "        text-align: right;\n",
       "    }\n",
       "</style>\n",
       "<table border=\"1\" class=\"dataframe\">\n",
       "  <thead>\n",
       "    <tr style=\"text-align: right;\">\n",
       "      <th></th>\n",
       "      <th>x_point</th>\n",
       "      <th>y_point</th>\n",
       "      <th>target</th>\n",
       "    </tr>\n",
       "  </thead>\n",
       "  <tbody>\n",
       "    <tr>\n",
       "      <th>0</th>\n",
       "      <td>1.0</td>\n",
       "      <td>3</td>\n",
       "      <td>1</td>\n",
       "    </tr>\n",
       "    <tr>\n",
       "      <th>1</th>\n",
       "      <td>3.0</td>\n",
       "      <td>5</td>\n",
       "      <td>1</td>\n",
       "    </tr>\n",
       "    <tr>\n",
       "      <th>2</th>\n",
       "      <td>5.0</td>\n",
       "      <td>7</td>\n",
       "      <td>1</td>\n",
       "    </tr>\n",
       "    <tr>\n",
       "      <th>3</th>\n",
       "      <td>3.0</td>\n",
       "      <td>1</td>\n",
       "      <td>0</td>\n",
       "    </tr>\n",
       "    <tr>\n",
       "      <th>4</th>\n",
       "      <td>5.0</td>\n",
       "      <td>3</td>\n",
       "      <td>0</td>\n",
       "    </tr>\n",
       "    <tr>\n",
       "      <th>5</th>\n",
       "      <td>7.0</td>\n",
       "      <td>5</td>\n",
       "      <td>0</td>\n",
       "    </tr>\n",
       "  </tbody>\n",
       "</table>\n",
       "</div>"
      ],
      "text/plain": [
       "   x_point  y_point  target\n",
       "0      1.0        3       1\n",
       "1      3.0        5       1\n",
       "2      5.0        7       1\n",
       "3      3.0        1       0\n",
       "4      5.0        3       0\n",
       "5      7.0        5       0"
      ]
     },
     "execution_count": 4,
     "metadata": {},
     "output_type": "execute_result"
    }
   ],
   "source": [
    "df=pd.DataFrame(data)\n",
    "df"
   ]
  },
  {
   "cell_type": "code",
   "execution_count": 5,
   "id": "51a345b1",
   "metadata": {},
   "outputs": [
    {
     "data": {
      "image/png": "[encoded data removed]",
      "text/plain": [
       "<Figure size 450x400 with 1 Axes>"
      ]
     },
     "metadata": {
      "needs_background": "light"
     },
     "output_type": "display_data"
    }
   ],
   "source": [
    "# Points representation\n",
    "fig,ax = plt.subplots(figsize=(4.5,4),dpi=100)\n",
    "plt.plot(df[\"x_point\"],df[\"y_point\"],\"b.\")\n",
    "plt.xlabel(\"x-axis\")\n",
    "plt.ylabel(\"y-axis\")\n",
    "plt.show()"
   ]
  },
  {
   "cell_type": "code",
   "execution_count": 6,
   "id": "38756741",
   "metadata": {},
   "outputs": [
    {
     "data": {
      "text/plain": [
       "LogisticRegression()"
      ]
     },
     "execution_count": 6,
     "metadata": {},
     "output_type": "execute_result"
    }
   ],
   "source": [
    "# Build the model\n",
    "model = LogisticRegression()\n",
    "model.fit(df[[\"x_point\",\"y_point\"]], df[\"target\"])"
   ]
  },
  {
   "cell_type": "code",
   "execution_count": 7,
   "id": "b35ec448",
   "metadata": {},
   "outputs": [
    {
     "data": {
      "text/plain": [
       "array([9.02524618e-17])"
      ]
     },
     "execution_count": 7,
     "metadata": {},
     "output_type": "execute_result"
    }
   ],
   "source": [
    "# Theta 0\n",
    "model.intercept_"
   ]
  },
  {
   "cell_type": "code",
   "execution_count": 8,
   "id": "a55f25b7",
   "metadata": {
    "scrolled": true
   },
   "outputs": [
    {
     "data": {
      "text/plain": [
       "array([[-0.88029644,  0.88029644]])"
      ]
     },
     "execution_count": 8,
     "metadata": {},
     "output_type": "execute_result"
    }
   ],
   "source": [
    "# Theta 1\n",
    "model.coef_"
   ]
  },
  {
   "cell_type": "markdown",
   "id": "f7807a43",
   "metadata": {},
   "source": [
    "The single datapoint to predict is (2, 4). Also you can try with another point replacing the numbers in the code below. The prediction is 0 (**False**) if the point is under the regression line and 1 (**True**) if it's above."
   ]
  },
  {
   "cell_type": "code",
   "execution_count": 9,
   "id": "923dfc7e",
   "metadata": {},
   "outputs": [
    {
     "name": "stdout",
     "output_type": "stream",
     "text": [
      "The point to predict is over the line.\n"
     ]
    },
    {
     "data": {
      "image/png": "[encoded data removed]",
      "text/plain": [
       "<Figure size 500x500 with 1 Axes>"
      ]
     },
     "metadata": {},
     "output_type": "display_data"
    }
   ],
   "source": [
    "from sklearn.model_selection import train_test_split\n",
    "\n",
    "fig,ax = plt.subplots(figsize=(5,5),dpi=100)\n",
    "\n",
    "p_x = [x/10 for x in range(0,85)]\n",
    "\n",
    "line_bias = model.intercept_\n",
    "\n",
    "line_w = model.coef_.T\n",
    "\n",
    "p_y = [(line_w[0]*x + line_bias)/(-1*line_w[1]) for x in p_x]\n",
    "\n",
    "\n",
    "#New point to predict.\n",
    "\n",
    "new_point = [2,4]\n",
    "\n",
    "#Building a plot to show the results.\n",
    "\n",
    "values = {0:\"under\",1:\"over\"}\n",
    "\n",
    "s = model.predict([new_point])\n",
    "\n",
    "over_line=df.loc[(df[\"target\"]==1)]\n",
    "under_line=df.loc[~(df[\"target\"]==1)]\n",
    "\n",
    "ax.plot(p_x,p_y,c=\"b\")\n",
    "plt.title(\"Representation of the points\",fontsize=16,fontweight=\"bold\",fontfamily=\"sans\",color=\"#004477\",y=1.05)\n",
    "ax.plot(over_line[\"x_point\"],over_line[\"y_point\"],\"P\",ms=6,mec=\"k\",mfc=\"#cc00ff\",label=\"True\")\n",
    "ax.plot(under_line[\"x_point\"],under_line[\"y_point\"],\"o\",ms=6,mec=\"k\",mfc=\"y\",label=\"False\")\n",
    "ax.plot(new_point[0],new_point[1],'ko',ms=6)\n",
    "plt.annotate(f\"({new_point[0]},{new_point[1]})\",(new_point[0],new_point[1]+0.2))\n",
    "plt.xlabel(\"x-axis\")\n",
    "plt.ylabel(\"y-axis\")\n",
    "plt.ylim(0,8)\n",
    "plt.xlim(0,8)\n",
    "fig.patch.set_facecolor('w')\n",
    "ax.set_facecolor('w')\n",
    "\n",
    "plt.legend(loc=(0.02,0.86),fontsize=10)\n",
    "print(f\"The point to predict is {values[s[0]]} the line.\")\n",
    "plt.show()"
   ]
  }
 ],
 "metadata": {
  "kernelspec": {
   "display_name": "Python 3 (ipykernel)",
   "language": "python",
   "name": "python3"
  },
  "language_info": {
   "codemirror_mode": {
    "name": "ipython",
    "version": 3
   },
   "file_extension": ".py",
   "mimetype": "text/x-python",
   "name": "python",
   "nbconvert_exporter": "python",
   "pygments_lexer": "ipython3",
   "version": "3.9.7"
  }
 },
 "nbformat": 4,
 "nbformat_minor": 5
}

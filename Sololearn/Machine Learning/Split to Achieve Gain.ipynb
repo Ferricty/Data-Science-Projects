{
 "cells": [
  {
   "cell_type": "markdown",
   "id": "325dffef",
   "metadata": {},
   "source": [
    "# Split to Achieve Gain"
   ]
  },
  {
   "cell_type": "markdown",
   "id": "553b077f",
   "metadata": {},
   "source": [
    "Calculate Information Gain"
   ]
  },
  {
   "cell_type": "markdown",
   "id": "17f5a376",
   "metadata": {},
   "source": [
    "## Task "
   ]
  },
  {
   "cell_type": "markdown",
   "id": "fb44a6ac",
   "metadata": {},
   "source": [
    "Given a dataset and a split of the dataset, calculate the information gain using the gini impurity..\n",
    "\n",
    "The first line of the input is a list of the target values in the initial dataset. The second line is the target values of the left split and the third line is the target values of the right split.\n",
    "\n",
    "Round your result to 5 decimal places. You can use round(x,5).\n",
    "\n",
    "**Input Format**\n",
    "\n",
    "Three lines of 1's and 0's separated by spaces.\n",
    "\n",
    "**Output Format**\n",
    "\n",
    "Float (rounded to 5 decimal places)"
   ]
  },
  {
   "cell_type": "markdown",
   "id": "ba6fe709",
   "metadata": {},
   "source": [
    "**Sample Input**\n",
    "\n",
    "`1 0 1 0 1 0`\n",
    "\n",
    "`1 1 1`\n",
    "\n",
    "`0 0 0`\n",
    "\n",
    "**Sample Output**\n",
    "\n",
    "`0.5`"
   ]
  },
  {
   "cell_type": "code",
   "execution_count": 1,
   "id": "f4723f04",
   "metadata": {},
   "outputs": [],
   "source": [
    "S = [int(x) for x in \"1 0 1 0 1 0\".split()]"
   ]
  },
  {
   "cell_type": "code",
   "execution_count": 2,
   "id": "b69d8f90",
   "metadata": {},
   "outputs": [],
   "source": [
    "A = [int(x) for x in \"1 1 1\".split()]"
   ]
  },
  {
   "cell_type": "code",
   "execution_count": 3,
   "id": "84ce37e2",
   "metadata": {},
   "outputs": [],
   "source": [
    "B = [int(x) for x in \"0 0 0\".split()]"
   ]
  },
  {
   "cell_type": "markdown",
   "id": "2841b6ce",
   "metadata": {},
   "source": [
    "## Gini Impurity"
   ]
  },
  {
   "cell_type": "markdown",
   "id": "5362bcfb",
   "metadata": {},
   "source": [
    "Gini impurity is a measure of how pure a set is. It will be a value between 0 and 0.5 where 0.5 is completely impure (50% survived and 50% didn't survive) and 0 is completely pure (100% in the same class)."
   ]
  },
  {
   "cell_type": "markdown",
   "id": "d3b9c86f",
   "metadata": {},
   "source": [
    "$$gini = {2*p*(1-p)}$$"
   ]
  },
  {
   "cell_type": "code",
   "execution_count": 4,
   "id": "61e27df4",
   "metadata": {},
   "outputs": [],
   "source": [
    "def gini(l):\n",
    "    p = sum(l)/len(l)\n",
    "    return 2*p*(1-p)"
   ]
  },
  {
   "cell_type": "markdown",
   "id": "c95c6ca5",
   "metadata": {},
   "source": [
    "## Information Gain\n",
    "\n",
    "H is our impurity measure (either Gini impurity or entropy). S is the original dataset and A and B are the two sets we're splitting the dataset S into. \n",
    "\n",
    "$$Information\\thinspace\\thinspace Gain = H(S)-\\frac{\\left|{A}\\right|}{\\left|{S}\\right|}H(A)-\\frac{\\left|{B}\\right|}{\\left|{S}\\right|}H(B)$$\n"
   ]
  },
  {
   "cell_type": "code",
   "execution_count": 5,
   "id": "681fe4e5",
   "metadata": {},
   "outputs": [
    {
     "name": "stdout",
     "output_type": "stream",
     "text": [
      "0.5\n"
     ]
    }
   ],
   "source": [
    "def inf_gain(S,A,B):\n",
    "    return gini(S)-len(A)/len(S)*gini(A) - len(B)/len(S)*gini(B)\n",
    "print(round(inf_gain(S,A,B),5))"
   ]
  }
 ],
 "metadata": {
  "kernelspec": {
   "display_name": "Python 3 (ipykernel)",
   "language": "python",
   "name": "python3"
  },
  "language_info": {
   "codemirror_mode": {
    "name": "ipython",
    "version": 3
   },
   "file_extension": ".py",
   "mimetype": "text/x-python",
   "name": "python",
   "nbconvert_exporter": "python",
   "pygments_lexer": "ipython3",
   "version": "3.9.7"
  }
 },
 "nbformat": 4,
 "nbformat_minor": 5
}

{
 "cells": [
  {
   "cell_type": "markdown",
   "id": "bf54413f",
   "metadata": {},
   "source": [
    "# What's in a Column?"
   ]
  },
  {
   "cell_type": "markdown",
   "id": "4d7f52f0",
   "metadata": {},
   "source": [
    "Getting a column from a numpy array"
   ]
  },
  {
   "cell_type": "markdown",
   "id": "fdfa55af",
   "metadata": {},
   "source": [
    "## Task"
   ]
  },
  {
   "cell_type": "markdown",
   "id": "6209cb4d",
   "metadata": {},
   "source": [
    "Given a csv file and a column name, print the elements in the given column."
   ]
  },
  {
   "cell_type": "markdown",
   "id": "c255ee3e",
   "metadata": {},
   "source": [
    "**Input Format**"
   ]
  },
  {
   "cell_type": "markdown",
   "id": "47d3e83c",
   "metadata": {},
   "source": [
    "First line: filename of a csv file\n",
    "\n",
    "Second line: column name"
   ]
  },
  {
   "cell_type": "markdown",
   "id": "dfb1a320",
   "metadata": {},
   "source": [
    "**Output Format**"
   ]
  },
  {
   "cell_type": "markdown",
   "id": "9ff11063",
   "metadata": {},
   "source": [
    "Numpy array"
   ]
  },
  {
   "cell_type": "code",
   "execution_count": null,
   "id": "2f396bf0",
   "metadata": {},
   "outputs": [],
   "source": [
    "filename = input()\n",
    "column_name = input()\n",
    "import pandas as pd\n",
    "import numpy as np\n",
    "df = pd.read_csv(filename)\n",
    "a = np.array(df[column_name])\n",
    "print(a)"
   ]
  }
 ],
 "metadata": {
  "kernelspec": {
   "display_name": "Python 3 (ipykernel)",
   "language": "python",
   "name": "python3"
  },
  "language_info": {
   "codemirror_mode": {
    "name": "ipython",
    "version": 3
   },
   "file_extension": ".py",
   "mimetype": "text/x-python",
   "name": "python",
   "nbconvert_exporter": "python",
   "pygments_lexer": "ipython3",
   "version": "3.9.7"
  }
 },
 "nbformat": 4,
 "nbformat_minor": 5
}
